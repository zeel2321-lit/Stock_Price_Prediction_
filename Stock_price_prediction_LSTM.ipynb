{
  "nbformat": 4,
  "nbformat_minor": 0,
  "metadata": {
    "colab": {
      "name": "Stock price prediction - LSTM.ipynb",
      "provenance": [],
      "collapsed_sections": [],
      "include_colab_link": true
    },
    "kernelspec": {
      "name": "python3",
      "display_name": "Python 3"
    },
    "language_info": {
      "name": "python"
    }
  },
  "cells": [
    {
      "cell_type": "markdown",
      "metadata": {
        "id": "view-in-github",
        "colab_type": "text"
      },
      "source": [
        "<a href=\"https://colab.research.google.com/github/zeel2321-lit/Stock_Price_Prediction_/blob/main/Stock_price_prediction_LSTM.ipynb\" target=\"_parent\"><img src=\"https://colab.research.google.com/assets/colab-badge.svg\" alt=\"Open In Colab\"/></a>"
      ]
    },
    {
      "cell_type": "code",
      "source": [
        "#stock market prediction"
      ],
      "metadata": {
        "id": "lMPS2bOxq4DS"
      },
      "execution_count": null,
      "outputs": []
    },
    {
      "cell_type": "markdown",
      "source": [
        "To predict the closing stock price of the Corporation (Reliance)"
      ],
      "metadata": {
        "id": "5CEqpfHMiwKJ"
      }
    },
    {
      "cell_type": "code",
      "source": [
        "from google.colab import drive\n",
        "drive.mount('/content/drive')"
      ],
      "metadata": {
        "id": "aL8iQcuaJGYm",
        "colab": {
          "base_uri": "https://localhost:8080/"
        },
        "outputId": "45920f5e-3b74-428f-80e7-960f7f6bf142"
      },
      "execution_count": null,
      "outputs": [
        {
          "output_type": "stream",
          "name": "stdout",
          "text": [
            "Mounted at /content/drive\n"
          ]
        }
      ]
    },
    {
      "cell_type": "code",
      "source": [
        "#import libraries\n",
        "import numpy as np\n",
        "import matplotlib.pyplot as plt\n",
        "import pandas as pd"
      ],
      "metadata": {
        "id": "g9KnRv2Gq-6M"
      },
      "execution_count": 1,
      "outputs": []
    },
    {
      "cell_type": "code",
      "execution_count": 2,
      "metadata": {
        "id": "GzApUXMZo2I1"
      },
      "outputs": [],
      "source": [
        "Reliance_training_1 = pd.read_csv('/content/RELIANCE.NS (1).csv')"
      ]
    },
    {
      "cell_type": "code",
      "source": [
        "Reliance_training_1"
      ],
      "metadata": {
        "colab": {
          "base_uri": "https://localhost:8080/",
          "height": 423
        },
        "id": "yueNBFIarWvS",
        "outputId": "5791070d-6d67-4a0e-d41e-da62c1ae0b25"
      },
      "execution_count": 3,
      "outputs": [
        {
          "output_type": "execute_result",
          "data": {
            "text/plain": [
              "            Date         Open         High          Low        Close  \\\n",
              "0     03-04-2017   664.699341   683.768555   662.247559   680.871033   \n",
              "1     05-04-2017   691.049561   702.342468   683.570435   700.856567   \n",
              "2     06-04-2017   697.884766   717.647400   694.516663   712.496277   \n",
              "3     07-04-2017   703.976990   710.267395   694.690063   696.696045   \n",
              "4     10-04-2017   698.380066   705.760071   682.183594   684.189575   \n",
              "...          ...          ...          ...          ...          ...   \n",
              "1232  29-03-2022  2638.000000  2638.000000  2607.399902  2622.550049   \n",
              "1233  30-03-2022  2639.899902  2688.000000  2617.100098  2672.949951   \n",
              "1234  31-03-2022  2664.949951  2669.699951  2628.600098  2634.750000   \n",
              "1235  01-04-2022  2636.000000  2665.149902  2622.000000  2655.850098   \n",
              "1236  01-04-2022  2636.000000  2665.149902  2622.000000  2655.850098   \n",
              "\n",
              "        Adj Close    Volume  \n",
              "0      663.438965  20715169  \n",
              "1      682.912842  18609462  \n",
              "2      694.254578  23361514  \n",
              "3      678.858887  14710432  \n",
              "4      666.672546  14199616  \n",
              "...           ...       ...  \n",
              "1232  2622.550049   4007695  \n",
              "1233  2672.949951   7297028  \n",
              "1234  2634.750000   6102744  \n",
              "1235  2655.850098   3656408  \n",
              "1236  2655.850098   3652052  \n",
              "\n",
              "[1237 rows x 7 columns]"
            ],
            "text/html": [
              "\n",
              "  <div id=\"df-b7ae353e-19af-42b2-9197-bbd6b18ac6fe\">\n",
              "    <div class=\"colab-df-container\">\n",
              "      <div>\n",
              "<style scoped>\n",
              "    .dataframe tbody tr th:only-of-type {\n",
              "        vertical-align: middle;\n",
              "    }\n",
              "\n",
              "    .dataframe tbody tr th {\n",
              "        vertical-align: top;\n",
              "    }\n",
              "\n",
              "    .dataframe thead th {\n",
              "        text-align: right;\n",
              "    }\n",
              "</style>\n",
              "<table border=\"1\" class=\"dataframe\">\n",
              "  <thead>\n",
              "    <tr style=\"text-align: right;\">\n",
              "      <th></th>\n",
              "      <th>Date</th>\n",
              "      <th>Open</th>\n",
              "      <th>High</th>\n",
              "      <th>Low</th>\n",
              "      <th>Close</th>\n",
              "      <th>Adj Close</th>\n",
              "      <th>Volume</th>\n",
              "    </tr>\n",
              "  </thead>\n",
              "  <tbody>\n",
              "    <tr>\n",
              "      <th>0</th>\n",
              "      <td>03-04-2017</td>\n",
              "      <td>664.699341</td>\n",
              "      <td>683.768555</td>\n",
              "      <td>662.247559</td>\n",
              "      <td>680.871033</td>\n",
              "      <td>663.438965</td>\n",
              "      <td>20715169</td>\n",
              "    </tr>\n",
              "    <tr>\n",
              "      <th>1</th>\n",
              "      <td>05-04-2017</td>\n",
              "      <td>691.049561</td>\n",
              "      <td>702.342468</td>\n",
              "      <td>683.570435</td>\n",
              "      <td>700.856567</td>\n",
              "      <td>682.912842</td>\n",
              "      <td>18609462</td>\n",
              "    </tr>\n",
              "    <tr>\n",
              "      <th>2</th>\n",
              "      <td>06-04-2017</td>\n",
              "      <td>697.884766</td>\n",
              "      <td>717.647400</td>\n",
              "      <td>694.516663</td>\n",
              "      <td>712.496277</td>\n",
              "      <td>694.254578</td>\n",
              "      <td>23361514</td>\n",
              "    </tr>\n",
              "    <tr>\n",
              "      <th>3</th>\n",
              "      <td>07-04-2017</td>\n",
              "      <td>703.976990</td>\n",
              "      <td>710.267395</td>\n",
              "      <td>694.690063</td>\n",
              "      <td>696.696045</td>\n",
              "      <td>678.858887</td>\n",
              "      <td>14710432</td>\n",
              "    </tr>\n",
              "    <tr>\n",
              "      <th>4</th>\n",
              "      <td>10-04-2017</td>\n",
              "      <td>698.380066</td>\n",
              "      <td>705.760071</td>\n",
              "      <td>682.183594</td>\n",
              "      <td>684.189575</td>\n",
              "      <td>666.672546</td>\n",
              "      <td>14199616</td>\n",
              "    </tr>\n",
              "    <tr>\n",
              "      <th>...</th>\n",
              "      <td>...</td>\n",
              "      <td>...</td>\n",
              "      <td>...</td>\n",
              "      <td>...</td>\n",
              "      <td>...</td>\n",
              "      <td>...</td>\n",
              "      <td>...</td>\n",
              "    </tr>\n",
              "    <tr>\n",
              "      <th>1232</th>\n",
              "      <td>29-03-2022</td>\n",
              "      <td>2638.000000</td>\n",
              "      <td>2638.000000</td>\n",
              "      <td>2607.399902</td>\n",
              "      <td>2622.550049</td>\n",
              "      <td>2622.550049</td>\n",
              "      <td>4007695</td>\n",
              "    </tr>\n",
              "    <tr>\n",
              "      <th>1233</th>\n",
              "      <td>30-03-2022</td>\n",
              "      <td>2639.899902</td>\n",
              "      <td>2688.000000</td>\n",
              "      <td>2617.100098</td>\n",
              "      <td>2672.949951</td>\n",
              "      <td>2672.949951</td>\n",
              "      <td>7297028</td>\n",
              "    </tr>\n",
              "    <tr>\n",
              "      <th>1234</th>\n",
              "      <td>31-03-2022</td>\n",
              "      <td>2664.949951</td>\n",
              "      <td>2669.699951</td>\n",
              "      <td>2628.600098</td>\n",
              "      <td>2634.750000</td>\n",
              "      <td>2634.750000</td>\n",
              "      <td>6102744</td>\n",
              "    </tr>\n",
              "    <tr>\n",
              "      <th>1235</th>\n",
              "      <td>01-04-2022</td>\n",
              "      <td>2636.000000</td>\n",
              "      <td>2665.149902</td>\n",
              "      <td>2622.000000</td>\n",
              "      <td>2655.850098</td>\n",
              "      <td>2655.850098</td>\n",
              "      <td>3656408</td>\n",
              "    </tr>\n",
              "    <tr>\n",
              "      <th>1236</th>\n",
              "      <td>01-04-2022</td>\n",
              "      <td>2636.000000</td>\n",
              "      <td>2665.149902</td>\n",
              "      <td>2622.000000</td>\n",
              "      <td>2655.850098</td>\n",
              "      <td>2655.850098</td>\n",
              "      <td>3652052</td>\n",
              "    </tr>\n",
              "  </tbody>\n",
              "</table>\n",
              "<p>1237 rows × 7 columns</p>\n",
              "</div>\n",
              "      <button class=\"colab-df-convert\" onclick=\"convertToInteractive('df-b7ae353e-19af-42b2-9197-bbd6b18ac6fe')\"\n",
              "              title=\"Convert this dataframe to an interactive table.\"\n",
              "              style=\"display:none;\">\n",
              "        \n",
              "  <svg xmlns=\"http://www.w3.org/2000/svg\" height=\"24px\"viewBox=\"0 0 24 24\"\n",
              "       width=\"24px\">\n",
              "    <path d=\"M0 0h24v24H0V0z\" fill=\"none\"/>\n",
              "    <path d=\"M18.56 5.44l.94 2.06.94-2.06 2.06-.94-2.06-.94-.94-2.06-.94 2.06-2.06.94zm-11 1L8.5 8.5l.94-2.06 2.06-.94-2.06-.94L8.5 2.5l-.94 2.06-2.06.94zm10 10l.94 2.06.94-2.06 2.06-.94-2.06-.94-.94-2.06-.94 2.06-2.06.94z\"/><path d=\"M17.41 7.96l-1.37-1.37c-.4-.4-.92-.59-1.43-.59-.52 0-1.04.2-1.43.59L10.3 9.45l-7.72 7.72c-.78.78-.78 2.05 0 2.83L4 21.41c.39.39.9.59 1.41.59.51 0 1.02-.2 1.41-.59l7.78-7.78 2.81-2.81c.8-.78.8-2.07 0-2.86zM5.41 20L4 18.59l7.72-7.72 1.47 1.35L5.41 20z\"/>\n",
              "  </svg>\n",
              "      </button>\n",
              "      \n",
              "  <style>\n",
              "    .colab-df-container {\n",
              "      display:flex;\n",
              "      flex-wrap:wrap;\n",
              "      gap: 12px;\n",
              "    }\n",
              "\n",
              "    .colab-df-convert {\n",
              "      background-color: #E8F0FE;\n",
              "      border: none;\n",
              "      border-radius: 50%;\n",
              "      cursor: pointer;\n",
              "      display: none;\n",
              "      fill: #1967D2;\n",
              "      height: 32px;\n",
              "      padding: 0 0 0 0;\n",
              "      width: 32px;\n",
              "    }\n",
              "\n",
              "    .colab-df-convert:hover {\n",
              "      background-color: #E2EBFA;\n",
              "      box-shadow: 0px 1px 2px rgba(60, 64, 67, 0.3), 0px 1px 3px 1px rgba(60, 64, 67, 0.15);\n",
              "      fill: #174EA6;\n",
              "    }\n",
              "\n",
              "    [theme=dark] .colab-df-convert {\n",
              "      background-color: #3B4455;\n",
              "      fill: #D2E3FC;\n",
              "    }\n",
              "\n",
              "    [theme=dark] .colab-df-convert:hover {\n",
              "      background-color: #434B5C;\n",
              "      box-shadow: 0px 1px 3px 1px rgba(0, 0, 0, 0.15);\n",
              "      filter: drop-shadow(0px 1px 2px rgba(0, 0, 0, 0.3));\n",
              "      fill: #FFFFFF;\n",
              "    }\n",
              "  </style>\n",
              "\n",
              "      <script>\n",
              "        const buttonEl =\n",
              "          document.querySelector('#df-b7ae353e-19af-42b2-9197-bbd6b18ac6fe button.colab-df-convert');\n",
              "        buttonEl.style.display =\n",
              "          google.colab.kernel.accessAllowed ? 'block' : 'none';\n",
              "\n",
              "        async function convertToInteractive(key) {\n",
              "          const element = document.querySelector('#df-b7ae353e-19af-42b2-9197-bbd6b18ac6fe');\n",
              "          const dataTable =\n",
              "            await google.colab.kernel.invokeFunction('convertToInteractive',\n",
              "                                                     [key], {});\n",
              "          if (!dataTable) return;\n",
              "\n",
              "          const docLinkHtml = 'Like what you see? Visit the ' +\n",
              "            '<a target=\"_blank\" href=https://colab.research.google.com/notebooks/data_table.ipynb>data table notebook</a>'\n",
              "            + ' to learn more about interactive tables.';\n",
              "          element.innerHTML = '';\n",
              "          dataTable['output_type'] = 'display_data';\n",
              "          await google.colab.output.renderOutput(dataTable, element);\n",
              "          const docLink = document.createElement('div');\n",
              "          docLink.innerHTML = docLinkHtml;\n",
              "          element.appendChild(docLink);\n",
              "        }\n",
              "      </script>\n",
              "    </div>\n",
              "  </div>\n",
              "  "
            ]
          },
          "metadata": {},
          "execution_count": 3
        }
      ]
    },
    {
      "cell_type": "code",
      "source": [
        "Reliance_training = Reliance_training_1.iloc[:,1:2].values"
      ],
      "metadata": {
        "id": "Zl_yt3U3rYkQ"
      },
      "execution_count": 4,
      "outputs": []
    },
    {
      "cell_type": "code",
      "source": [
        "Reliance_training_1"
      ],
      "metadata": {
        "colab": {
          "base_uri": "https://localhost:8080/",
          "height": 423
        },
        "id": "79iu480arh9V",
        "outputId": "09f81c0b-07da-4dfc-8637-2f31826330ed"
      },
      "execution_count": 5,
      "outputs": [
        {
          "output_type": "execute_result",
          "data": {
            "text/plain": [
              "            Date         Open         High          Low        Close  \\\n",
              "0     03-04-2017   664.699341   683.768555   662.247559   680.871033   \n",
              "1     05-04-2017   691.049561   702.342468   683.570435   700.856567   \n",
              "2     06-04-2017   697.884766   717.647400   694.516663   712.496277   \n",
              "3     07-04-2017   703.976990   710.267395   694.690063   696.696045   \n",
              "4     10-04-2017   698.380066   705.760071   682.183594   684.189575   \n",
              "...          ...          ...          ...          ...          ...   \n",
              "1232  29-03-2022  2638.000000  2638.000000  2607.399902  2622.550049   \n",
              "1233  30-03-2022  2639.899902  2688.000000  2617.100098  2672.949951   \n",
              "1234  31-03-2022  2664.949951  2669.699951  2628.600098  2634.750000   \n",
              "1235  01-04-2022  2636.000000  2665.149902  2622.000000  2655.850098   \n",
              "1236  01-04-2022  2636.000000  2665.149902  2622.000000  2655.850098   \n",
              "\n",
              "        Adj Close    Volume  \n",
              "0      663.438965  20715169  \n",
              "1      682.912842  18609462  \n",
              "2      694.254578  23361514  \n",
              "3      678.858887  14710432  \n",
              "4      666.672546  14199616  \n",
              "...           ...       ...  \n",
              "1232  2622.550049   4007695  \n",
              "1233  2672.949951   7297028  \n",
              "1234  2634.750000   6102744  \n",
              "1235  2655.850098   3656408  \n",
              "1236  2655.850098   3652052  \n",
              "\n",
              "[1237 rows x 7 columns]"
            ],
            "text/html": [
              "\n",
              "  <div id=\"df-45e9ef87-eede-42e4-b4d7-757a7e2e9909\">\n",
              "    <div class=\"colab-df-container\">\n",
              "      <div>\n",
              "<style scoped>\n",
              "    .dataframe tbody tr th:only-of-type {\n",
              "        vertical-align: middle;\n",
              "    }\n",
              "\n",
              "    .dataframe tbody tr th {\n",
              "        vertical-align: top;\n",
              "    }\n",
              "\n",
              "    .dataframe thead th {\n",
              "        text-align: right;\n",
              "    }\n",
              "</style>\n",
              "<table border=\"1\" class=\"dataframe\">\n",
              "  <thead>\n",
              "    <tr style=\"text-align: right;\">\n",
              "      <th></th>\n",
              "      <th>Date</th>\n",
              "      <th>Open</th>\n",
              "      <th>High</th>\n",
              "      <th>Low</th>\n",
              "      <th>Close</th>\n",
              "      <th>Adj Close</th>\n",
              "      <th>Volume</th>\n",
              "    </tr>\n",
              "  </thead>\n",
              "  <tbody>\n",
              "    <tr>\n",
              "      <th>0</th>\n",
              "      <td>03-04-2017</td>\n",
              "      <td>664.699341</td>\n",
              "      <td>683.768555</td>\n",
              "      <td>662.247559</td>\n",
              "      <td>680.871033</td>\n",
              "      <td>663.438965</td>\n",
              "      <td>20715169</td>\n",
              "    </tr>\n",
              "    <tr>\n",
              "      <th>1</th>\n",
              "      <td>05-04-2017</td>\n",
              "      <td>691.049561</td>\n",
              "      <td>702.342468</td>\n",
              "      <td>683.570435</td>\n",
              "      <td>700.856567</td>\n",
              "      <td>682.912842</td>\n",
              "      <td>18609462</td>\n",
              "    </tr>\n",
              "    <tr>\n",
              "      <th>2</th>\n",
              "      <td>06-04-2017</td>\n",
              "      <td>697.884766</td>\n",
              "      <td>717.647400</td>\n",
              "      <td>694.516663</td>\n",
              "      <td>712.496277</td>\n",
              "      <td>694.254578</td>\n",
              "      <td>23361514</td>\n",
              "    </tr>\n",
              "    <tr>\n",
              "      <th>3</th>\n",
              "      <td>07-04-2017</td>\n",
              "      <td>703.976990</td>\n",
              "      <td>710.267395</td>\n",
              "      <td>694.690063</td>\n",
              "      <td>696.696045</td>\n",
              "      <td>678.858887</td>\n",
              "      <td>14710432</td>\n",
              "    </tr>\n",
              "    <tr>\n",
              "      <th>4</th>\n",
              "      <td>10-04-2017</td>\n",
              "      <td>698.380066</td>\n",
              "      <td>705.760071</td>\n",
              "      <td>682.183594</td>\n",
              "      <td>684.189575</td>\n",
              "      <td>666.672546</td>\n",
              "      <td>14199616</td>\n",
              "    </tr>\n",
              "    <tr>\n",
              "      <th>...</th>\n",
              "      <td>...</td>\n",
              "      <td>...</td>\n",
              "      <td>...</td>\n",
              "      <td>...</td>\n",
              "      <td>...</td>\n",
              "      <td>...</td>\n",
              "      <td>...</td>\n",
              "    </tr>\n",
              "    <tr>\n",
              "      <th>1232</th>\n",
              "      <td>29-03-2022</td>\n",
              "      <td>2638.000000</td>\n",
              "      <td>2638.000000</td>\n",
              "      <td>2607.399902</td>\n",
              "      <td>2622.550049</td>\n",
              "      <td>2622.550049</td>\n",
              "      <td>4007695</td>\n",
              "    </tr>\n",
              "    <tr>\n",
              "      <th>1233</th>\n",
              "      <td>30-03-2022</td>\n",
              "      <td>2639.899902</td>\n",
              "      <td>2688.000000</td>\n",
              "      <td>2617.100098</td>\n",
              "      <td>2672.949951</td>\n",
              "      <td>2672.949951</td>\n",
              "      <td>7297028</td>\n",
              "    </tr>\n",
              "    <tr>\n",
              "      <th>1234</th>\n",
              "      <td>31-03-2022</td>\n",
              "      <td>2664.949951</td>\n",
              "      <td>2669.699951</td>\n",
              "      <td>2628.600098</td>\n",
              "      <td>2634.750000</td>\n",
              "      <td>2634.750000</td>\n",
              "      <td>6102744</td>\n",
              "    </tr>\n",
              "    <tr>\n",
              "      <th>1235</th>\n",
              "      <td>01-04-2022</td>\n",
              "      <td>2636.000000</td>\n",
              "      <td>2665.149902</td>\n",
              "      <td>2622.000000</td>\n",
              "      <td>2655.850098</td>\n",
              "      <td>2655.850098</td>\n",
              "      <td>3656408</td>\n",
              "    </tr>\n",
              "    <tr>\n",
              "      <th>1236</th>\n",
              "      <td>01-04-2022</td>\n",
              "      <td>2636.000000</td>\n",
              "      <td>2665.149902</td>\n",
              "      <td>2622.000000</td>\n",
              "      <td>2655.850098</td>\n",
              "      <td>2655.850098</td>\n",
              "      <td>3652052</td>\n",
              "    </tr>\n",
              "  </tbody>\n",
              "</table>\n",
              "<p>1237 rows × 7 columns</p>\n",
              "</div>\n",
              "      <button class=\"colab-df-convert\" onclick=\"convertToInteractive('df-45e9ef87-eede-42e4-b4d7-757a7e2e9909')\"\n",
              "              title=\"Convert this dataframe to an interactive table.\"\n",
              "              style=\"display:none;\">\n",
              "        \n",
              "  <svg xmlns=\"http://www.w3.org/2000/svg\" height=\"24px\"viewBox=\"0 0 24 24\"\n",
              "       width=\"24px\">\n",
              "    <path d=\"M0 0h24v24H0V0z\" fill=\"none\"/>\n",
              "    <path d=\"M18.56 5.44l.94 2.06.94-2.06 2.06-.94-2.06-.94-.94-2.06-.94 2.06-2.06.94zm-11 1L8.5 8.5l.94-2.06 2.06-.94-2.06-.94L8.5 2.5l-.94 2.06-2.06.94zm10 10l.94 2.06.94-2.06 2.06-.94-2.06-.94-.94-2.06-.94 2.06-2.06.94z\"/><path d=\"M17.41 7.96l-1.37-1.37c-.4-.4-.92-.59-1.43-.59-.52 0-1.04.2-1.43.59L10.3 9.45l-7.72 7.72c-.78.78-.78 2.05 0 2.83L4 21.41c.39.39.9.59 1.41.59.51 0 1.02-.2 1.41-.59l7.78-7.78 2.81-2.81c.8-.78.8-2.07 0-2.86zM5.41 20L4 18.59l7.72-7.72 1.47 1.35L5.41 20z\"/>\n",
              "  </svg>\n",
              "      </button>\n",
              "      \n",
              "  <style>\n",
              "    .colab-df-container {\n",
              "      display:flex;\n",
              "      flex-wrap:wrap;\n",
              "      gap: 12px;\n",
              "    }\n",
              "\n",
              "    .colab-df-convert {\n",
              "      background-color: #E8F0FE;\n",
              "      border: none;\n",
              "      border-radius: 50%;\n",
              "      cursor: pointer;\n",
              "      display: none;\n",
              "      fill: #1967D2;\n",
              "      height: 32px;\n",
              "      padding: 0 0 0 0;\n",
              "      width: 32px;\n",
              "    }\n",
              "\n",
              "    .colab-df-convert:hover {\n",
              "      background-color: #E2EBFA;\n",
              "      box-shadow: 0px 1px 2px rgba(60, 64, 67, 0.3), 0px 1px 3px 1px rgba(60, 64, 67, 0.15);\n",
              "      fill: #174EA6;\n",
              "    }\n",
              "\n",
              "    [theme=dark] .colab-df-convert {\n",
              "      background-color: #3B4455;\n",
              "      fill: #D2E3FC;\n",
              "    }\n",
              "\n",
              "    [theme=dark] .colab-df-convert:hover {\n",
              "      background-color: #434B5C;\n",
              "      box-shadow: 0px 1px 3px 1px rgba(0, 0, 0, 0.15);\n",
              "      filter: drop-shadow(0px 1px 2px rgba(0, 0, 0, 0.3));\n",
              "      fill: #FFFFFF;\n",
              "    }\n",
              "  </style>\n",
              "\n",
              "      <script>\n",
              "        const buttonEl =\n",
              "          document.querySelector('#df-45e9ef87-eede-42e4-b4d7-757a7e2e9909 button.colab-df-convert');\n",
              "        buttonEl.style.display =\n",
              "          google.colab.kernel.accessAllowed ? 'block' : 'none';\n",
              "\n",
              "        async function convertToInteractive(key) {\n",
              "          const element = document.querySelector('#df-45e9ef87-eede-42e4-b4d7-757a7e2e9909');\n",
              "          const dataTable =\n",
              "            await google.colab.kernel.invokeFunction('convertToInteractive',\n",
              "                                                     [key], {});\n",
              "          if (!dataTable) return;\n",
              "\n",
              "          const docLinkHtml = 'Like what you see? Visit the ' +\n",
              "            '<a target=\"_blank\" href=https://colab.research.google.com/notebooks/data_table.ipynb>data table notebook</a>'\n",
              "            + ' to learn more about interactive tables.';\n",
              "          element.innerHTML = '';\n",
              "          dataTable['output_type'] = 'display_data';\n",
              "          await google.colab.output.renderOutput(dataTable, element);\n",
              "          const docLink = document.createElement('div');\n",
              "          docLink.innerHTML = docLinkHtml;\n",
              "          element.appendChild(docLink);\n",
              "        }\n",
              "      </script>\n",
              "    </div>\n",
              "  </div>\n",
              "  "
            ]
          },
          "metadata": {},
          "execution_count": 5
        }
      ]
    },
    {
      "cell_type": "code",
      "source": [
        "#data normalization\n",
        "from sklearn.preprocessing import MinMaxScaler\n",
        "scaler = MinMaxScaler(feature_range=(0,1))\n",
        "Reliance_training_processed = scaler.fit_transform(Reliance_training)"
      ],
      "metadata": {
        "id": "gf8EMcRKrt0j"
      },
      "execution_count": 6,
      "outputs": []
    },
    {
      "cell_type": "code",
      "source": [
        "Reliance_training_processed.shape"
      ],
      "metadata": {
        "colab": {
          "base_uri": "https://localhost:8080/"
        },
        "id": "sjXcXRs1sW-2",
        "outputId": "75046fc0-e6bb-4410-bfe7-4d8f353df3de"
      },
      "execution_count": 7,
      "outputs": [
        {
          "output_type": "execute_result",
          "data": {
            "text/plain": [
              "(1237, 1)"
            ]
          },
          "metadata": {},
          "execution_count": 7
        }
      ]
    },
    {
      "cell_type": "code",
      "source": [
        "#forming the training data using the window size for the feature mapping\n",
        "feature_set=[]\n",
        "labels=[]\n",
        "\n",
        "#window size = 60\n",
        "for i in range(60, Reliance_training_processed.shape[0]):\n",
        "  feature_set.append(Reliance_training_processed[i-60:i,0])\n",
        "  labels.append(Reliance_training_processed[i,0])"
      ],
      "metadata": {
        "id": "ukrfk5y1w56d"
      },
      "execution_count": 8,
      "outputs": []
    },
    {
      "cell_type": "code",
      "source": [
        "len(feature_set)"
      ],
      "metadata": {
        "colab": {
          "base_uri": "https://localhost:8080/"
        },
        "id": "_oys9Y5xxbu5",
        "outputId": "a62e5da9-c4ef-4809-c19c-5c56819054d9"
      },
      "execution_count": 9,
      "outputs": [
        {
          "output_type": "execute_result",
          "data": {
            "text/plain": [
              "1177"
            ]
          },
          "metadata": {},
          "execution_count": 9
        }
      ]
    },
    {
      "cell_type": "code",
      "source": [
        "feature_set, labels = np.array(feature_set), np.array(labels)   #conversion from list to array"
      ],
      "metadata": {
        "id": "L7uN4uPUxhH-"
      },
      "execution_count": 10,
      "outputs": []
    },
    {
      "cell_type": "code",
      "source": [
        "#reshaping the dimension of featured dataset because while performing lstm, we will have one indicator feature\n",
        "feature_set.shape"
      ],
      "metadata": {
        "colab": {
          "base_uri": "https://localhost:8080/"
        },
        "id": "otRTQtBnyI3x",
        "outputId": "9ebc951e-04be-4862-d32e-338cd1cda368"
      },
      "execution_count": 11,
      "outputs": [
        {
          "output_type": "execute_result",
          "data": {
            "text/plain": [
              "(1177, 60)"
            ]
          },
          "metadata": {},
          "execution_count": 11
        }
      ]
    },
    {
      "cell_type": "code",
      "source": [
        "#reshaping\n",
        "features_set = np.reshape(feature_set, (feature_set.shape[0], feature_set.shape[1], 1 ))"
      ],
      "metadata": {
        "id": "II30eoACye3i"
      },
      "execution_count": 12,
      "outputs": []
    },
    {
      "cell_type": "code",
      "source": [
        "features_set.shape"
      ],
      "metadata": {
        "colab": {
          "base_uri": "https://localhost:8080/"
        },
        "id": "8WvaBlory6qe",
        "outputId": "a9647da4-afc4-4c2c-b432-264795f57bf3"
      },
      "execution_count": 13,
      "outputs": [
        {
          "output_type": "execute_result",
          "data": {
            "text/plain": [
              "(1177, 60, 1)"
            ]
          },
          "metadata": {},
          "execution_count": 13
        }
      ]
    },
    {
      "cell_type": "code",
      "source": [
        "#building the LSTM model\n",
        "\n",
        "from keras.models import Sequential\n",
        "from keras.layers import LSTM, Dropout, Dense   #dropout is used for regularization"
      ],
      "metadata": {
        "id": "kIRbdRzfzDb6"
      },
      "execution_count": 14,
      "outputs": []
    },
    {
      "cell_type": "code",
      "source": [
        "model = Sequential()"
      ],
      "metadata": {
        "id": "_becCyWXzl5v"
      },
      "execution_count": 15,
      "outputs": []
    },
    {
      "cell_type": "code",
      "source": [
        "model.add(LSTM(units = 150, return_sequences = True, input_shape = (features_set.shape[1], 1)))    #first hidden layer"
      ],
      "metadata": {
        "id": "B4yve9O3zR5Z"
      },
      "execution_count": 16,
      "outputs": []
    },
    {
      "cell_type": "code",
      "source": [
        "model.add(Dropout(0.2))"
      ],
      "metadata": {
        "id": "0asZXESPzrMl"
      },
      "execution_count": 17,
      "outputs": []
    },
    {
      "cell_type": "code",
      "source": [
        "model.add(LSTM(units = 150, return_sequences = True))    #second hidden layer\n",
        "model.add(Dropout(0.2))\n",
        "\n",
        "model.add(LSTM(units = 150, return_sequences = True))    #third hidden layer\n",
        "model.add(Dropout(0.2))\n",
        "\n",
        "model.add(LSTM(units = 150))    #fourth hidden layer\n",
        "model.add(Dropout(0.2))"
      ],
      "metadata": {
        "id": "ppJJvrqu0_cw"
      },
      "execution_count": 18,
      "outputs": []
    },
    {
      "cell_type": "code",
      "source": [
        "model.add(Dense(units = 1))   #single value output"
      ],
      "metadata": {
        "id": "NB4BZBQY1sG0"
      },
      "execution_count": 19,
      "outputs": []
    },
    {
      "cell_type": "code",
      "source": [
        "model.summary()"
      ],
      "metadata": {
        "colab": {
          "base_uri": "https://localhost:8080/"
        },
        "id": "2He73x981yOA",
        "outputId": "370b5309-141e-4d1d-8013-e0dc7e9be4b2"
      },
      "execution_count": 20,
      "outputs": [
        {
          "output_type": "stream",
          "name": "stdout",
          "text": [
            "Model: \"sequential\"\n",
            "_________________________________________________________________\n",
            " Layer (type)                Output Shape              Param #   \n",
            "=================================================================\n",
            " lstm (LSTM)                 (None, 60, 150)           91200     \n",
            "                                                                 \n",
            " dropout (Dropout)           (None, 60, 150)           0         \n",
            "                                                                 \n",
            " lstm_1 (LSTM)               (None, 60, 150)           180600    \n",
            "                                                                 \n",
            " dropout_1 (Dropout)         (None, 60, 150)           0         \n",
            "                                                                 \n",
            " lstm_2 (LSTM)               (None, 60, 150)           180600    \n",
            "                                                                 \n",
            " dropout_2 (Dropout)         (None, 60, 150)           0         \n",
            "                                                                 \n",
            " lstm_3 (LSTM)               (None, 150)               180600    \n",
            "                                                                 \n",
            " dropout_3 (Dropout)         (None, 150)               0         \n",
            "                                                                 \n",
            " dense (Dense)               (None, 1)                 151       \n",
            "                                                                 \n",
            "=================================================================\n",
            "Total params: 633,151\n",
            "Trainable params: 633,151\n",
            "Non-trainable params: 0\n",
            "_________________________________________________________________\n"
          ]
        }
      ]
    },
    {
      "cell_type": "code",
      "source": [
        "model.compile(optimizer='adam', loss='mean_squared_error')"
      ],
      "metadata": {
        "id": "fwup7suM10P7"
      },
      "execution_count": 21,
      "outputs": []
    },
    {
      "cell_type": "code",
      "source": [
        "model.fit(features_set, labels, epochs = 100, batch_size = 32, verbose=1)"
      ],
      "metadata": {
        "colab": {
          "base_uri": "https://localhost:8080/"
        },
        "id": "WaW3YPrh3YQN",
        "outputId": "b8c1b2bb-f599-4efc-b991-0ac0ff0a600b"
      },
      "execution_count": 22,
      "outputs": [
        {
          "output_type": "stream",
          "name": "stdout",
          "text": [
            "Epoch 1/100\n",
            "37/37 [==============================] - 25s 434ms/step - loss: 0.0595\n",
            "Epoch 2/100\n",
            "37/37 [==============================] - 16s 425ms/step - loss: 0.0046\n",
            "Epoch 3/100\n",
            "37/37 [==============================] - 16s 423ms/step - loss: 0.0034\n",
            "Epoch 4/100\n",
            "37/37 [==============================] - 16s 431ms/step - loss: 0.0034\n",
            "Epoch 5/100\n",
            "37/37 [==============================] - 16s 426ms/step - loss: 0.0032\n",
            "Epoch 6/100\n",
            "37/37 [==============================] - 15s 415ms/step - loss: 0.0035\n",
            "Epoch 7/100\n",
            "37/37 [==============================] - 15s 412ms/step - loss: 0.0032\n",
            "Epoch 8/100\n",
            "37/37 [==============================] - 15s 412ms/step - loss: 0.0029\n",
            "Epoch 9/100\n",
            "37/37 [==============================] - 15s 413ms/step - loss: 0.0025\n",
            "Epoch 10/100\n",
            "37/37 [==============================] - 15s 414ms/step - loss: 0.0026\n",
            "Epoch 11/100\n",
            "37/37 [==============================] - 15s 413ms/step - loss: 0.0034\n",
            "Epoch 12/100\n",
            "37/37 [==============================] - 15s 411ms/step - loss: 0.0027\n",
            "Epoch 13/100\n",
            "37/37 [==============================] - 15s 412ms/step - loss: 0.0026\n",
            "Epoch 14/100\n",
            "37/37 [==============================] - 15s 414ms/step - loss: 0.0024\n",
            "Epoch 15/100\n",
            "37/37 [==============================] - 15s 410ms/step - loss: 0.0022\n",
            "Epoch 16/100\n",
            "37/37 [==============================] - 15s 411ms/step - loss: 0.0022\n",
            "Epoch 17/100\n",
            "37/37 [==============================] - 15s 411ms/step - loss: 0.0020\n",
            "Epoch 18/100\n",
            "37/37 [==============================] - 15s 417ms/step - loss: 0.0022\n",
            "Epoch 19/100\n",
            "37/37 [==============================] - 15s 411ms/step - loss: 0.0022\n",
            "Epoch 20/100\n",
            "37/37 [==============================] - 15s 409ms/step - loss: 0.0023\n",
            "Epoch 21/100\n",
            "37/37 [==============================] - 15s 408ms/step - loss: 0.0024\n",
            "Epoch 22/100\n",
            "37/37 [==============================] - 15s 417ms/step - loss: 0.0020\n",
            "Epoch 23/100\n",
            "37/37 [==============================] - 15s 412ms/step - loss: 0.0018\n",
            "Epoch 24/100\n",
            "37/37 [==============================] - 15s 409ms/step - loss: 0.0019\n",
            "Epoch 25/100\n",
            "37/37 [==============================] - 15s 414ms/step - loss: 0.0023\n",
            "Epoch 26/100\n",
            "37/37 [==============================] - 15s 418ms/step - loss: 0.0018\n",
            "Epoch 27/100\n",
            "37/37 [==============================] - 15s 409ms/step - loss: 0.0017\n",
            "Epoch 28/100\n",
            "37/37 [==============================] - 15s 416ms/step - loss: 0.0017\n",
            "Epoch 29/100\n",
            "37/37 [==============================] - 15s 411ms/step - loss: 0.0021\n",
            "Epoch 30/100\n",
            "37/37 [==============================] - 15s 413ms/step - loss: 0.0021\n",
            "Epoch 31/100\n",
            "37/37 [==============================] - 15s 417ms/step - loss: 0.0019\n",
            "Epoch 32/100\n",
            "37/37 [==============================] - 15s 417ms/step - loss: 0.0019\n",
            "Epoch 33/100\n",
            "37/37 [==============================] - 15s 415ms/step - loss: 0.0017\n",
            "Epoch 34/100\n",
            "37/37 [==============================] - 15s 415ms/step - loss: 0.0015\n",
            "Epoch 35/100\n",
            "37/37 [==============================] - 15s 410ms/step - loss: 0.0017\n",
            "Epoch 36/100\n",
            "37/37 [==============================] - 15s 409ms/step - loss: 0.0016\n",
            "Epoch 37/100\n",
            "37/37 [==============================] - 15s 411ms/step - loss: 0.0016\n",
            "Epoch 38/100\n",
            "37/37 [==============================] - 15s 412ms/step - loss: 0.0018\n",
            "Epoch 39/100\n",
            "37/37 [==============================] - 15s 411ms/step - loss: 0.0018\n",
            "Epoch 40/100\n",
            "37/37 [==============================] - 15s 415ms/step - loss: 0.0016\n",
            "Epoch 41/100\n",
            "37/37 [==============================] - 15s 414ms/step - loss: 0.0017\n",
            "Epoch 42/100\n",
            "37/37 [==============================] - 15s 414ms/step - loss: 0.0015\n",
            "Epoch 43/100\n",
            "37/37 [==============================] - 15s 412ms/step - loss: 0.0015\n",
            "Epoch 44/100\n",
            "37/37 [==============================] - 15s 412ms/step - loss: 0.0014\n",
            "Epoch 45/100\n",
            "37/37 [==============================] - 15s 413ms/step - loss: 0.0013\n",
            "Epoch 46/100\n",
            "37/37 [==============================] - 15s 416ms/step - loss: 0.0014\n",
            "Epoch 47/100\n",
            "37/37 [==============================] - 15s 414ms/step - loss: 0.0015\n",
            "Epoch 48/100\n",
            "37/37 [==============================] - 15s 410ms/step - loss: 0.0015\n",
            "Epoch 49/100\n",
            "37/37 [==============================] - 15s 411ms/step - loss: 0.0013\n",
            "Epoch 50/100\n",
            "37/37 [==============================] - 15s 411ms/step - loss: 0.0017\n",
            "Epoch 51/100\n",
            "37/37 [==============================] - 15s 409ms/step - loss: 0.0016\n",
            "Epoch 52/100\n",
            "37/37 [==============================] - 15s 416ms/step - loss: 0.0014\n",
            "Epoch 53/100\n",
            "37/37 [==============================] - 15s 413ms/step - loss: 0.0013\n",
            "Epoch 54/100\n",
            "37/37 [==============================] - 16s 419ms/step - loss: 0.0014\n",
            "Epoch 55/100\n",
            "37/37 [==============================] - 15s 414ms/step - loss: 0.0014\n",
            "Epoch 56/100\n",
            "37/37 [==============================] - 15s 417ms/step - loss: 0.0013\n",
            "Epoch 57/100\n",
            "37/37 [==============================] - 16s 420ms/step - loss: 0.0014\n",
            "Epoch 58/100\n",
            "37/37 [==============================] - 16s 423ms/step - loss: 0.0014\n",
            "Epoch 59/100\n",
            "37/37 [==============================] - 15s 414ms/step - loss: 0.0012\n",
            "Epoch 60/100\n",
            "37/37 [==============================] - 16s 422ms/step - loss: 0.0012\n",
            "Epoch 61/100\n",
            "37/37 [==============================] - 15s 415ms/step - loss: 0.0012\n",
            "Epoch 62/100\n",
            "37/37 [==============================] - 15s 415ms/step - loss: 0.0012\n",
            "Epoch 63/100\n",
            "37/37 [==============================] - 15s 412ms/step - loss: 0.0011\n",
            "Epoch 64/100\n",
            "37/37 [==============================] - 15s 413ms/step - loss: 0.0013\n",
            "Epoch 65/100\n",
            "37/37 [==============================] - 15s 416ms/step - loss: 0.0011\n",
            "Epoch 66/100\n",
            "37/37 [==============================] - 15s 413ms/step - loss: 0.0012\n",
            "Epoch 67/100\n",
            "37/37 [==============================] - 15s 418ms/step - loss: 0.0011\n",
            "Epoch 68/100\n",
            "37/37 [==============================] - 15s 418ms/step - loss: 0.0011\n",
            "Epoch 69/100\n",
            "37/37 [==============================] - 15s 413ms/step - loss: 0.0012\n",
            "Epoch 70/100\n",
            "37/37 [==============================] - 16s 421ms/step - loss: 0.0012\n",
            "Epoch 71/100\n",
            "37/37 [==============================] - 15s 417ms/step - loss: 0.0011\n",
            "Epoch 72/100\n",
            "37/37 [==============================] - 16s 421ms/step - loss: 0.0013\n",
            "Epoch 73/100\n",
            "37/37 [==============================] - 15s 417ms/step - loss: 0.0011\n",
            "Epoch 74/100\n",
            "37/37 [==============================] - 15s 417ms/step - loss: 0.0010\n",
            "Epoch 75/100\n",
            "37/37 [==============================] - 15s 410ms/step - loss: 0.0011\n",
            "Epoch 76/100\n",
            "37/37 [==============================] - 15s 415ms/step - loss: 0.0013\n",
            "Epoch 77/100\n",
            "37/37 [==============================] - 16s 422ms/step - loss: 0.0010\n",
            "Epoch 78/100\n",
            "37/37 [==============================] - 16s 429ms/step - loss: 0.0012\n",
            "Epoch 79/100\n",
            "37/37 [==============================] - 16s 425ms/step - loss: 0.0012\n",
            "Epoch 80/100\n",
            "37/37 [==============================] - 16s 429ms/step - loss: 0.0012\n",
            "Epoch 81/100\n",
            "37/37 [==============================] - 16s 418ms/step - loss: 0.0011\n",
            "Epoch 82/100\n",
            "37/37 [==============================] - 16s 418ms/step - loss: 0.0012\n",
            "Epoch 83/100\n",
            "37/37 [==============================] - 15s 416ms/step - loss: 0.0011\n",
            "Epoch 84/100\n",
            "37/37 [==============================] - 15s 416ms/step - loss: 8.8200e-04\n",
            "Epoch 85/100\n",
            "37/37 [==============================] - 15s 414ms/step - loss: 9.5378e-04\n",
            "Epoch 86/100\n",
            "37/37 [==============================] - 16s 426ms/step - loss: 9.9722e-04\n",
            "Epoch 87/100\n",
            "37/37 [==============================] - 16s 427ms/step - loss: 8.9614e-04\n",
            "Epoch 88/100\n",
            "37/37 [==============================] - 17s 461ms/step - loss: 9.2407e-04\n",
            "Epoch 89/100\n",
            "37/37 [==============================] - 16s 433ms/step - loss: 9.9339e-04\n",
            "Epoch 90/100\n",
            "37/37 [==============================] - 16s 418ms/step - loss: 9.3412e-04\n",
            "Epoch 91/100\n",
            "37/37 [==============================] - 15s 408ms/step - loss: 9.3500e-04\n",
            "Epoch 92/100\n",
            "37/37 [==============================] - 15s 413ms/step - loss: 9.2298e-04\n",
            "Epoch 93/100\n",
            "37/37 [==============================] - 15s 417ms/step - loss: 0.0010\n",
            "Epoch 94/100\n",
            "37/37 [==============================] - 15s 415ms/step - loss: 0.0011\n",
            "Epoch 95/100\n",
            "37/37 [==============================] - 15s 412ms/step - loss: 9.2179e-04\n",
            "Epoch 96/100\n",
            "37/37 [==============================] - 16s 420ms/step - loss: 9.0699e-04\n",
            "Epoch 97/100\n",
            "37/37 [==============================] - 15s 413ms/step - loss: 8.8733e-04\n",
            "Epoch 98/100\n",
            "37/37 [==============================] - 15s 413ms/step - loss: 0.0010\n",
            "Epoch 99/100\n",
            "37/37 [==============================] - 15s 416ms/step - loss: 8.8798e-04\n",
            "Epoch 100/100\n",
            "37/37 [==============================] - 15s 414ms/step - loss: 8.5981e-04\n"
          ]
        },
        {
          "output_type": "execute_result",
          "data": {
            "text/plain": [
              "<keras.callbacks.History at 0x7fdea5213c10>"
            ]
          },
          "metadata": {},
          "execution_count": 22
        }
      ]
    },
    {
      "cell_type": "code",
      "source": [
        "features_set.shape"
      ],
      "metadata": {
        "colab": {
          "base_uri": "https://localhost:8080/"
        },
        "id": "_DrIg_3n4O0f",
        "outputId": "0a343dd8-7b91-4dd4-efb0-cf0dd9474523"
      },
      "execution_count": 23,
      "outputs": [
        {
          "output_type": "execute_result",
          "data": {
            "text/plain": [
              "(1177, 60, 1)"
            ]
          },
          "metadata": {},
          "execution_count": 23
        }
      ]
    },
    {
      "cell_type": "code",
      "source": [
        "#Testing the dataset\n",
        "Reliance_testing_1 = pd.read_csv(r'/content/RELIANCE.NS (1).csv')"
      ],
      "metadata": {
        "id": "D8nrXsP653LK"
      },
      "execution_count": 24,
      "outputs": []
    },
    {
      "cell_type": "code",
      "source": [
        "Reliance_testing = Reliance_testing_1.iloc[:, 1:2].values"
      ],
      "metadata": {
        "id": "71FtNiJm6lIs"
      },
      "execution_count": 25,
      "outputs": []
    },
    {
      "cell_type": "code",
      "source": [
        "Reliance_testing_final = pd.concat((Reliance_training_1['Open'], Reliance_testing_1['Open']), axis = 0)"
      ],
      "metadata": {
        "id": "5BF9vto163z5"
      },
      "execution_count": 26,
      "outputs": []
    },
    {
      "cell_type": "code",
      "source": [
        "Reliance_testing_final.shape"
      ],
      "metadata": {
        "colab": {
          "base_uri": "https://localhost:8080/"
        },
        "id": "zYd-3VKK71K_",
        "outputId": "82d88f58-a0db-4f36-8115-54d6318a5b7a"
      },
      "execution_count": 27,
      "outputs": [
        {
          "output_type": "execute_result",
          "data": {
            "text/plain": [
              "(2474,)"
            ]
          },
          "metadata": {},
          "execution_count": 27
        }
      ]
    },
    {
      "cell_type": "code",
      "source": [
        "testing_dataset = Reliance_testing_final[len(Reliance_testing_final)-len(Reliance_testing)-60:].values"
      ],
      "metadata": {
        "id": "e2gHbhZM7iVz"
      },
      "execution_count": 28,
      "outputs": []
    },
    {
      "cell_type": "code",
      "source": [
        "testing_dataset.shape"
      ],
      "metadata": {
        "colab": {
          "base_uri": "https://localhost:8080/"
        },
        "id": "8EMkE5Nl8pYX",
        "outputId": "b2917718-51ce-412f-d600-07aa5fd5cde7"
      },
      "execution_count": 29,
      "outputs": [
        {
          "output_type": "execute_result",
          "data": {
            "text/plain": [
              "(1297,)"
            ]
          },
          "metadata": {},
          "execution_count": 29
        }
      ]
    },
    {
      "cell_type": "code",
      "source": [
        "testing_dataset = testing_dataset.reshape(-1,1)"
      ],
      "metadata": {
        "id": "iglLJZXX96hx"
      },
      "execution_count": 30,
      "outputs": []
    },
    {
      "cell_type": "code",
      "source": [
        "testing_dataset = scaler.transform(testing_dataset)"
      ],
      "metadata": {
        "id": "M6IZ-KYE8Tk5"
      },
      "execution_count": 31,
      "outputs": []
    },
    {
      "cell_type": "code",
      "source": [
        "testing_dataset.shape"
      ],
      "metadata": {
        "colab": {
          "base_uri": "https://localhost:8080/"
        },
        "id": "zpvrgTTX8ZZK",
        "outputId": "13d9e644-6a44-4989-a18f-6cd885d77249"
      },
      "execution_count": 32,
      "outputs": [
        {
          "output_type": "execute_result",
          "data": {
            "text/plain": [
              "(1297, 1)"
            ]
          },
          "metadata": {},
          "execution_count": 32
        }
      ]
    },
    {
      "cell_type": "code",
      "source": [
        "test_features = []\n",
        "for i in range(60,80):\n",
        "  test_features.append(testing_dataset[i-60:i,0])"
      ],
      "metadata": {
        "id": "bheDF_CW-Va3"
      },
      "execution_count": 33,
      "outputs": []
    },
    {
      "cell_type": "code",
      "source": [
        "test_features=np.array(test_features)"
      ],
      "metadata": {
        "id": "wX7LaiLL-jXV"
      },
      "execution_count": 34,
      "outputs": []
    },
    {
      "cell_type": "code",
      "source": [
        "test_features=np.reshape(test_features,(test_features.shape[0],test_features.shape[1],1))\n"
      ],
      "metadata": {
        "id": "2m90k604-86M"
      },
      "execution_count": 35,
      "outputs": []
    },
    {
      "cell_type": "code",
      "source": [
        "test_features.shape"
      ],
      "metadata": {
        "colab": {
          "base_uri": "https://localhost:8080/"
        },
        "id": "vqHuDnGXDC41",
        "outputId": "ebe9ae64-dd60-44a1-937f-dc1457c1faaa"
      },
      "execution_count": 36,
      "outputs": [
        {
          "output_type": "execute_result",
          "data": {
            "text/plain": [
              "(20, 60, 1)"
            ]
          },
          "metadata": {},
          "execution_count": 36
        }
      ]
    },
    {
      "cell_type": "code",
      "source": [
        "#Prediction\n",
        "predictions = model.predict(test_features)"
      ],
      "metadata": {
        "id": "l_BnNYEM_FJQ"
      },
      "execution_count": 37,
      "outputs": []
    },
    {
      "cell_type": "code",
      "source": [
        "predictions.shape"
      ],
      "metadata": {
        "colab": {
          "base_uri": "https://localhost:8080/"
        },
        "id": "XHEYaOpaC5xN",
        "outputId": "d6b4b848-eaa2-496e-909b-cf74dc916904"
      },
      "execution_count": 38,
      "outputs": [
        {
          "output_type": "execute_result",
          "data": {
            "text/plain": [
              "(20, 1)"
            ]
          },
          "metadata": {},
          "execution_count": 38
        }
      ]
    },
    {
      "cell_type": "code",
      "source": [
        "predictions = scaler.inverse_transform(predictions)"
      ],
      "metadata": {
        "id": "d5Lr6-8J_LS8"
      },
      "execution_count": 39,
      "outputs": []
    },
    {
      "cell_type": "code",
      "source": [
        "#importing required libraries\n",
        "from sklearn.preprocessing import MinMaxScaler\n",
        "from keras.models import Sequential\n",
        "from keras.layers import Dense, Dropout, LSTM\n",
        "import pandas as pd\n",
        "import numpy as np\n",
        "import matplotlib.pyplot as plt"
      ],
      "metadata": {
        "id": "TMpyaLSOSFsD"
      },
      "execution_count": 40,
      "outputs": []
    },
    {
      "cell_type": "code",
      "source": [
        "df = pd.read_csv(\"/content/RELIANCE.NS (1).csv\")\n"
      ],
      "metadata": {
        "id": "p_BNZpkE2U6B"
      },
      "execution_count": 41,
      "outputs": []
    },
    {
      "cell_type": "code",
      "source": [
        "\n",
        "#creating dataframe\n",
        "data = df.sort_index(ascending=True, axis=0)\n",
        "new_data = pd.DataFrame(index=range(0,len(df)),columns=['Date', 'Close'])\n",
        "for i in range(0,len(data)):\n",
        "    new_data['Date'][i] = data['Date'][i]\n",
        "    new_data['Close'][i] = data['Close'][i]"
      ],
      "metadata": {
        "id": "F3TOZFb32JFL"
      },
      "execution_count": 42,
      "outputs": []
    },
    {
      "cell_type": "code",
      "source": [
        "#setting index\n",
        "new_data.index = new_data.Date\n",
        "new_data.drop('Date', axis=1, inplace=True)"
      ],
      "metadata": {
        "id": "qXGDcoCN2ioL"
      },
      "execution_count": 43,
      "outputs": []
    },
    {
      "cell_type": "code",
      "source": [
        "#creating train and test sets\n",
        "dataset = new_data.values"
      ],
      "metadata": {
        "id": "e3YcMT7e2mHQ"
      },
      "execution_count": 44,
      "outputs": []
    },
    {
      "cell_type": "code",
      "source": [
        "train = dataset[0:987,:]\n",
        "valid = dataset[987:,:]"
      ],
      "metadata": {
        "id": "tl3n409c2o19"
      },
      "execution_count": 45,
      "outputs": []
    },
    {
      "cell_type": "code",
      "source": [
        "#converting dataset into x_train and y_train\n",
        "scaler = MinMaxScaler(feature_range=(0, 1))\n",
        "scaled_data = scaler.fit_transform(dataset)"
      ],
      "metadata": {
        "id": "J6jugor72rzl"
      },
      "execution_count": 46,
      "outputs": []
    },
    {
      "cell_type": "code",
      "source": [
        "x_train, y_train = [], []\n",
        "for i in range(60,len(train)):\n",
        "    x_train.append(scaled_data[i-60:i,0])\n",
        "    y_train.append(scaled_data[i,0])\n",
        "x_train, y_train = np.array(x_train), np.array(y_train)\n",
        "\n",
        "x_train = np.reshape(x_train, (x_train.shape[0],x_train.shape[1],1))"
      ],
      "metadata": {
        "id": "ceiuzW7l2uH2"
      },
      "execution_count": 47,
      "outputs": []
    },
    {
      "cell_type": "code",
      "source": [
        "# create and fit the LSTM network\n",
        "model = Sequential()\n",
        "model.add(LSTM(units=50, return_sequences=True, input_shape=(x_train.shape[1],1)))\n",
        "model.add(LSTM(units=50))\n",
        "model.add(Dense(1))\n",
        "# "
      ],
      "metadata": {
        "id": "MaO-nzCR2xZR"
      },
      "execution_count": 48,
      "outputs": []
    },
    {
      "cell_type": "markdown",
      "source": [
        "One reason for adding another Dense layer after the final LSTM is allowing the model to be more expressive (and also more prone to overfitting)"
      ],
      "metadata": {
        "id": "HtX2mwcnnj53"
      }
    },
    {
      "cell_type": "code",
      "source": [
        "model.compile(loss='mean_squared_error', optimizer='adam')\n",
        "model.fit(x_train, y_train, epochs=1, batch_size=1, verbose=2)"
      ],
      "metadata": {
        "colab": {
          "base_uri": "https://localhost:8080/"
        },
        "id": "Vq2gjQJH26eT",
        "outputId": "af0a5787-50a4-4272-fc73-6d992c8abc52"
      },
      "execution_count": 49,
      "outputs": [
        {
          "output_type": "stream",
          "name": "stdout",
          "text": [
            "927/927 - 27s - loss: 0.0020 - 27s/epoch - 29ms/step\n"
          ]
        },
        {
          "output_type": "execute_result",
          "data": {
            "text/plain": [
              "<keras.callbacks.History at 0x7fdea4d0f790>"
            ]
          },
          "metadata": {},
          "execution_count": 49
        }
      ]
    },
    {
      "cell_type": "code",
      "source": [
        "#predicting 246 values, using past 60 from the train data\n",
        "inputs = new_data[len(new_data) - len(valid) - 60:].values\n",
        "inputs = inputs.reshape(-1,1)\n",
        "inputs  = scaler.transform(inputs)"
      ],
      "metadata": {
        "id": "FTuqYLj82-Ac"
      },
      "execution_count": 50,
      "outputs": []
    },
    {
      "cell_type": "code",
      "source": [
        "X_test = []\n",
        "for i in range(60,inputs.shape[0]):\n",
        "    X_test.append(inputs[i-60:i,0])\n",
        "X_test = np.array(X_test)"
      ],
      "metadata": {
        "id": "5Z0NcFo-3GIU"
      },
      "execution_count": 51,
      "outputs": []
    },
    {
      "cell_type": "code",
      "source": [
        "X_test = np.reshape(X_test, (X_test.shape[0],X_test.shape[1],1))\n",
        "closing_price = model.predict(X_test)\n",
        "closing_price = scaler.inverse_transform(closing_price)"
      ],
      "metadata": {
        "id": "arWnO1PD3IZ2"
      },
      "execution_count": 52,
      "outputs": []
    },
    {
      "cell_type": "code",
      "source": [
        "rms=np.sqrt(np.mean(np.power((valid-closing_price),2)))\n",
        "rms"
      ],
      "metadata": {
        "colab": {
          "base_uri": "https://localhost:8080/"
        },
        "id": "dSvJ2P3M3KG0",
        "outputId": "25f05c82-66fc-440d-c3e3-04bde5aa19fa"
      },
      "execution_count": 53,
      "outputs": [
        {
          "output_type": "execute_result",
          "data": {
            "text/plain": [
              "109.39893153721556"
            ]
          },
          "metadata": {},
          "execution_count": 53
        }
      ]
    },
    {
      "cell_type": "code",
      "source": [
        "#for plotting\n",
        "train = new_data[:987]\n",
        "valid = new_data[987:]\n",
        "plt.figure(figsize=(10,6))\n",
        "\n",
        "valid['Predictions'] = closing_price\n",
        "plt.plot(train['Close'],color = 'green', label = 'Actual value of the stock')\n",
        "#plt.plot(train['Close'])\n",
        "plt.plot(valid[['Close','Predictions']])\n",
        "plt.title('Reliance stock prediction')\n",
        "plt.legend()\n",
        "plt.show()\n"
      ],
      "metadata": {
        "colab": {
          "base_uri": "https://localhost:8080/",
          "height": 514
        },
        "id": "9DZvdqWy3Meg",
        "outputId": "c6fc30a7-0ca3-4c7a-a7ff-63b433855b27"
      },
      "execution_count": 54,
      "outputs": [
        {
          "output_type": "stream",
          "name": "stderr",
          "text": [
            "/usr/local/lib/python3.7/dist-packages/ipykernel_launcher.py:6: SettingWithCopyWarning: \n",
            "A value is trying to be set on a copy of a slice from a DataFrame.\n",
            "Try using .loc[row_indexer,col_indexer] = value instead\n",
            "\n",
            "See the caveats in the documentation: https://pandas.pydata.org/pandas-docs/stable/user_guide/indexing.html#returning-a-view-versus-a-copy\n",
            "  \n"
          ]
        },
        {
          "output_type": "display_data",
          "data": {
            "text/plain": [
              "<Figure size 720x432 with 1 Axes>"
            ],
            "image/png": "[encoded data removed]"
          },
          "metadata": {
            "needs_background": "light"
          }
        }
      ]
    },
    {
      "cell_type": "markdown",
      "source": [
        "The LSTM model can be tuned for various parameters such as changing the number of LSTM layers, adding dropout value or increasing the number of epochs.\n",
        "\n",
        "blue - testing \n",
        "\n",
        "yellow - prediction\n",
        "\n",
        "green training "
      ],
      "metadata": {
        "id": "avJygJA23tYj"
      }
    },
    {
      "cell_type": "code",
      "source": [
        "predictions "
      ],
      "metadata": {
        "colab": {
          "base_uri": "https://localhost:8080/"
        },
        "id": "_aY_eoX_66-O",
        "outputId": "a360dc01-76d4-45b4-c905-4aa1ac3a904b"
      },
      "execution_count": 55,
      "outputs": [
        {
          "output_type": "execute_result",
          "data": {
            "text/plain": [
              "array([[2570.1067 ],\n",
              "       [1946.224  ],\n",
              "       [1318.7865 ],\n",
              "       [ 823.20575],\n",
              "       [ 560.7008 ],\n",
              "       [ 522.90533],\n",
              "       [ 606.2088 ],\n",
              "       [ 699.80206],\n",
              "       [ 747.16766],\n",
              "       [ 749.95886],\n",
              "       [ 733.8836 ],\n",
              "       [ 713.52594],\n",
              "       [ 698.76184],\n",
              "       [ 692.8845 ],\n",
              "       [ 697.52356],\n",
              "       [ 713.89795],\n",
              "       [ 731.1561 ],\n",
              "       [ 740.17194],\n",
              "       [ 740.1741 ],\n",
              "       [ 734.7724 ]], dtype=float32)"
            ]
          },
          "metadata": {},
          "execution_count": 55
        }
      ]
    },
    {
      "cell_type": "code",
      "source": [
        "x_train =x_train.reshape(x_train.shape[0],x_train.shape[1] , 1)\n",
        "X_test = X_test.reshape(X_test.shape[0],X_test.shape[1] , 1)"
      ],
      "metadata": {
        "id": "tXYfYrI93uNV"
      },
      "execution_count": 56,
      "outputs": []
    },
    {
      "cell_type": "code",
      "source": [
        "from tensorflow.keras.models import Sequential\n",
        "from tensorflow.keras.layers import Dense\n",
        "from tensorflow.keras.layers import LSTM"
      ],
      "metadata": {
        "id": "68-ycOL55jRq"
      },
      "execution_count": 57,
      "outputs": []
    },
    {
      "cell_type": "markdown",
      "source": [
        "We will be using a sequential model and adding the layers of the LSTM as said, in the above sentence. The first layer should be the time step in 1."
      ],
      "metadata": {
        "id": "kD2BE0X_aowS"
      }
    },
    {
      "cell_type": "code",
      "source": [
        "model=Sequential()\n",
        "model.add(LSTM(50,return_sequences=True,input_shape=(60,1)))\n",
        "model.add(LSTM(50,return_sequences=True))\n",
        "model.add(LSTM(50))\n",
        "model.add(Dense(1))\n",
        "model.compile(loss='mean_squared_error',optimizer='adam')"
      ],
      "metadata": {
        "id": "38y9_N2W5n5i"
      },
      "execution_count": 58,
      "outputs": []
    },
    {
      "cell_type": "code",
      "source": [
        "#Now the final part is to fit the X_train and the y_train.\n",
        "# Predict both the X_train and the X_test, now let’s scaler inverse transform because I want to see the root mean square performance."
      ],
      "metadata": {
        "id": "-OD4B2ma5qdG"
      },
      "execution_count": 59,
      "outputs": []
    },
    {
      "cell_type": "code",
      "source": [
        "train_predict=model.predict(x_train)\n",
        "test_predict=model.predict(X_test)\n",
        "train_predict=scaler.inverse_transform(train_predict)\n",
        "test_predict=scaler.inverse_transform(test_predict)"
      ],
      "metadata": {
        "id": "m909n8vN5umW"
      },
      "execution_count": 60,
      "outputs": []
    },
    {
      "cell_type": "code",
      "source": [
        "import math\n",
        "\n",
        "rms=np.sqrt(np.mean(np.power((y_train-test_predict),2)))\n",
        "rms"
      ],
      "metadata": {
        "colab": {
          "base_uri": "https://localhost:8080/"
        },
        "id": "vpXvPxsN52qj",
        "outputId": "068265fd-10df-4ef7-d00c-37432ff707a3"
      },
      "execution_count": 74,
      "outputs": [
        {
          "output_type": "execute_result",
          "data": {
            "text/plain": [
              "494.0134042154235"
            ]
          },
          "metadata": {},
          "execution_count": 74
        }
      ]
    },
    {
      "cell_type": "markdown",
      "source": [
        "If I consider the last date in the test data as of 2022-04-01, I want to predict the output of 2022-05-01. We need the previous 60 data for that I am taking the data and reshaping it."
      ],
      "metadata": {
        "id": "WIl2mBL_6NZ-"
      }
    },
    {
      "cell_type": "code",
      "source": [
        "x_input=valid[990:].values.reshape(1,-1)\n",
        "x_input.shape"
      ],
      "metadata": {
        "colab": {
          "base_uri": "https://localhost:8080/"
        },
        "id": "jIbJdTI06DZC",
        "outputId": "fd33c549-2be2-43d1-ab44-fe9beead5fba"
      },
      "execution_count": 75,
      "outputs": [
        {
          "output_type": "execute_result",
          "data": {
            "text/plain": [
              "(1, 0)"
            ]
          },
          "metadata": {},
          "execution_count": 75
        }
      ]
    },
    {
      "cell_type": "markdown",
      "source": [
        "This is how LSTM predict the prices of preferred stocks using this strategy."
      ],
      "metadata": {
        "id": "uUKVfQud7B0x"
      }
    },
    {
      "cell_type": "code",
      "source": [
        ""
      ],
      "metadata": {
        "id": "Ghc_tltVdz2r"
      },
      "execution_count": null,
      "outputs": []
    }
  ]
}