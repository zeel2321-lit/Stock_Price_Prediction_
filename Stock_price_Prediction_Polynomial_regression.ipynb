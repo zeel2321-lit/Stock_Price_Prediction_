{
  "nbformat": 4,
  "nbformat_minor": 0,
  "metadata": {
    "colab": {
      "name": "Stock price Prediction_Polynomial_regression.ipynb",
      "provenance": [],
      "authorship_tag": "ABX9TyPGulYX7vvKFYQFVMApHqBU",
      "include_colab_link": true
    },
    "kernelspec": {
      "name": "python3",
      "display_name": "Python 3"
    },
    "language_info": {
      "name": "python"
    }
  },
  "cells": [
    {
      "cell_type": "markdown",
      "metadata": {
        "id": "view-in-github",
        "colab_type": "text"
      },
      "source": [
        "<a href=\"https://colab.research.google.com/github/zeel2321-lit/Stock_Price_Prediction_/blob/main/Stock_price_Prediction_Polynomial_regression.ipynb\" target=\"_parent\"><img src=\"https://colab.research.google.com/assets/colab-badge.svg\" alt=\"Open In Colab\"/></a>"
      ]
    },
    {
      "cell_type": "code",
      "execution_count": 3,
      "metadata": {
        "id": "d07WEUd-bqKI"
      },
      "outputs": [],
      "source": [
        "#import packages\n",
        "import pandas as pd\n",
        "import numpy as np\n",
        "\n",
        "from sklearn.linear_model import LinearRegression\n",
        "#for polynomial regression\n",
        "from sklearn.preprocessing import PolynomialFeatures\n",
        "#to plot within notebook\n",
        "import matplotlib.pyplot as plt\n"
      ]
    },
    {
      "cell_type": "code",
      "source": [
        "\n",
        "#Read the data file\n",
        "df = pd.read_csv('/content/RELIANCE.NS (1).csv')\n",
        "df"
      ],
      "metadata": {
        "colab": {
          "base_uri": "https://localhost:8080/",
          "height": 423
        },
        "id": "WcyyuOGMbx4x",
        "outputId": "9d95184f-17bb-4b24-c8a5-570629e795ba"
      },
      "execution_count": 5,
      "outputs": [
        {
          "output_type": "execute_result",
          "data": {
            "text/plain": [
              "            Date         Open         High          Low        Close  \\\n",
              "0     03-04-2017   664.699341   683.768555   662.247559   680.871033   \n",
              "1     05-04-2017   691.049561   702.342468   683.570435   700.856567   \n",
              "2     06-04-2017   697.884766   717.647400   694.516663   712.496277   \n",
              "3     07-04-2017   703.976990   710.267395   694.690063   696.696045   \n",
              "4     10-04-2017   698.380066   705.760071   682.183594   684.189575   \n",
              "...          ...          ...          ...          ...          ...   \n",
              "1232  29-03-2022  2638.000000  2638.000000  2607.399902  2622.550049   \n",
              "1233  30-03-2022  2639.899902  2688.000000  2617.100098  2672.949951   \n",
              "1234  31-03-2022  2664.949951  2669.699951  2628.600098  2634.750000   \n",
              "1235  01-04-2022  2636.000000  2665.149902  2622.000000  2655.850098   \n",
              "1236  01-04-2022  2636.000000  2665.149902  2622.000000  2655.850098   \n",
              "\n",
              "        Adj Close    Volume  \n",
              "0      663.438965  20715169  \n",
              "1      682.912842  18609462  \n",
              "2      694.254578  23361514  \n",
              "3      678.858887  14710432  \n",
              "4      666.672546  14199616  \n",
              "...           ...       ...  \n",
              "1232  2622.550049   4007695  \n",
              "1233  2672.949951   7297028  \n",
              "1234  2634.750000   6102744  \n",
              "1235  2655.850098   3656408  \n",
              "1236  2655.850098   3652052  \n",
              "\n",
              "[1237 rows x 7 columns]"
            ],
            "text/html": [
              "\n",
              "  <div id=\"df-2f65e53e-9ef5-4c3e-9dbd-f8350cc66ec3\">\n",
              "    <div class=\"colab-df-container\">\n",
              "      <div>\n",
              "<style scoped>\n",
              "    .dataframe tbody tr th:only-of-type {\n",
              "        vertical-align: middle;\n",
              "    }\n",
              "\n",
              "    .dataframe tbody tr th {\n",
              "        vertical-align: top;\n",
              "    }\n",
              "\n",
              "    .dataframe thead th {\n",
              "        text-align: right;\n",
              "    }\n",
              "</style>\n",
              "<table border=\"1\" class=\"dataframe\">\n",
              "  <thead>\n",
              "    <tr style=\"text-align: right;\">\n",
              "      <th></th>\n",
              "      <th>Date</th>\n",
              "      <th>Open</th>\n",
              "      <th>High</th>\n",
              "      <th>Low</th>\n",
              "      <th>Close</th>\n",
              "      <th>Adj Close</th>\n",
              "      <th>Volume</th>\n",
              "    </tr>\n",
              "  </thead>\n",
              "  <tbody>\n",
              "    <tr>\n",
              "      <th>0</th>\n",
              "      <td>03-04-2017</td>\n",
              "      <td>664.699341</td>\n",
              "      <td>683.768555</td>\n",
              "      <td>662.247559</td>\n",
              "      <td>680.871033</td>\n",
              "      <td>663.438965</td>\n",
              "      <td>20715169</td>\n",
              "    </tr>\n",
              "    <tr>\n",
              "      <th>1</th>\n",
              "      <td>05-04-2017</td>\n",
              "      <td>691.049561</td>\n",
              "      <td>702.342468</td>\n",
              "      <td>683.570435</td>\n",
              "      <td>700.856567</td>\n",
              "      <td>682.912842</td>\n",
              "      <td>18609462</td>\n",
              "    </tr>\n",
              "    <tr>\n",
              "      <th>2</th>\n",
              "      <td>06-04-2017</td>\n",
              "      <td>697.884766</td>\n",
              "      <td>717.647400</td>\n",
              "      <td>694.516663</td>\n",
              "      <td>712.496277</td>\n",
              "      <td>694.254578</td>\n",
              "      <td>23361514</td>\n",
              "    </tr>\n",
              "    <tr>\n",
              "      <th>3</th>\n",
              "      <td>07-04-2017</td>\n",
              "      <td>703.976990</td>\n",
              "      <td>710.267395</td>\n",
              "      <td>694.690063</td>\n",
              "      <td>696.696045</td>\n",
              "      <td>678.858887</td>\n",
              "      <td>14710432</td>\n",
              "    </tr>\n",
              "    <tr>\n",
              "      <th>4</th>\n",
              "      <td>10-04-2017</td>\n",
              "      <td>698.380066</td>\n",
              "      <td>705.760071</td>\n",
              "      <td>682.183594</td>\n",
              "      <td>684.189575</td>\n",
              "      <td>666.672546</td>\n",
              "      <td>14199616</td>\n",
              "    </tr>\n",
              "    <tr>\n",
              "      <th>...</th>\n",
              "      <td>...</td>\n",
              "      <td>...</td>\n",
              "      <td>...</td>\n",
              "      <td>...</td>\n",
              "      <td>...</td>\n",
              "      <td>...</td>\n",
              "      <td>...</td>\n",
              "    </tr>\n",
              "    <tr>\n",
              "      <th>1232</th>\n",
              "      <td>29-03-2022</td>\n",
              "      <td>2638.000000</td>\n",
              "      <td>2638.000000</td>\n",
              "      <td>2607.399902</td>\n",
              "      <td>2622.550049</td>\n",
              "      <td>2622.550049</td>\n",
              "      <td>4007695</td>\n",
              "    </tr>\n",
              "    <tr>\n",
              "      <th>1233</th>\n",
              "      <td>30-03-2022</td>\n",
              "      <td>2639.899902</td>\n",
              "      <td>2688.000000</td>\n",
              "      <td>2617.100098</td>\n",
              "      <td>2672.949951</td>\n",
              "      <td>2672.949951</td>\n",
              "      <td>7297028</td>\n",
              "    </tr>\n",
              "    <tr>\n",
              "      <th>1234</th>\n",
              "      <td>31-03-2022</td>\n",
              "      <td>2664.949951</td>\n",
              "      <td>2669.699951</td>\n",
              "      <td>2628.600098</td>\n",
              "      <td>2634.750000</td>\n",
              "      <td>2634.750000</td>\n",
              "      <td>6102744</td>\n",
              "    </tr>\n",
              "    <tr>\n",
              "      <th>1235</th>\n",
              "      <td>01-04-2022</td>\n",
              "      <td>2636.000000</td>\n",
              "      <td>2665.149902</td>\n",
              "      <td>2622.000000</td>\n",
              "      <td>2655.850098</td>\n",
              "      <td>2655.850098</td>\n",
              "      <td>3656408</td>\n",
              "    </tr>\n",
              "    <tr>\n",
              "      <th>1236</th>\n",
              "      <td>01-04-2022</td>\n",
              "      <td>2636.000000</td>\n",
              "      <td>2665.149902</td>\n",
              "      <td>2622.000000</td>\n",
              "      <td>2655.850098</td>\n",
              "      <td>2655.850098</td>\n",
              "      <td>3652052</td>\n",
              "    </tr>\n",
              "  </tbody>\n",
              "</table>\n",
              "<p>1237 rows × 7 columns</p>\n",
              "</div>\n",
              "      <button class=\"colab-df-convert\" onclick=\"convertToInteractive('df-2f65e53e-9ef5-4c3e-9dbd-f8350cc66ec3')\"\n",
              "              title=\"Convert this dataframe to an interactive table.\"\n",
              "              style=\"display:none;\">\n",
              "        \n",
              "  <svg xmlns=\"http://www.w3.org/2000/svg\" height=\"24px\"viewBox=\"0 0 24 24\"\n",
              "       width=\"24px\">\n",
              "    <path d=\"M0 0h24v24H0V0z\" fill=\"none\"/>\n",
              "    <path d=\"M18.56 5.44l.94 2.06.94-2.06 2.06-.94-2.06-.94-.94-2.06-.94 2.06-2.06.94zm-11 1L8.5 8.5l.94-2.06 2.06-.94-2.06-.94L8.5 2.5l-.94 2.06-2.06.94zm10 10l.94 2.06.94-2.06 2.06-.94-2.06-.94-.94-2.06-.94 2.06-2.06.94z\"/><path d=\"M17.41 7.96l-1.37-1.37c-.4-.4-.92-.59-1.43-.59-.52 0-1.04.2-1.43.59L10.3 9.45l-7.72 7.72c-.78.78-.78 2.05 0 2.83L4 21.41c.39.39.9.59 1.41.59.51 0 1.02-.2 1.41-.59l7.78-7.78 2.81-2.81c.8-.78.8-2.07 0-2.86zM5.41 20L4 18.59l7.72-7.72 1.47 1.35L5.41 20z\"/>\n",
              "  </svg>\n",
              "      </button>\n",
              "      \n",
              "  <style>\n",
              "    .colab-df-container {\n",
              "      display:flex;\n",
              "      flex-wrap:wrap;\n",
              "      gap: 12px;\n",
              "    }\n",
              "\n",
              "    .colab-df-convert {\n",
              "      background-color: #E8F0FE;\n",
              "      border: none;\n",
              "      border-radius: 50%;\n",
              "      cursor: pointer;\n",
              "      display: none;\n",
              "      fill: #1967D2;\n",
              "      height: 32px;\n",
              "      padding: 0 0 0 0;\n",
              "      width: 32px;\n",
              "    }\n",
              "\n",
              "    .colab-df-convert:hover {\n",
              "      background-color: #E2EBFA;\n",
              "      box-shadow: 0px 1px 2px rgba(60, 64, 67, 0.3), 0px 1px 3px 1px rgba(60, 64, 67, 0.15);\n",
              "      fill: #174EA6;\n",
              "    }\n",
              "\n",
              "    [theme=dark] .colab-df-convert {\n",
              "      background-color: #3B4455;\n",
              "      fill: #D2E3FC;\n",
              "    }\n",
              "\n",
              "    [theme=dark] .colab-df-convert:hover {\n",
              "      background-color: #434B5C;\n",
              "      box-shadow: 0px 1px 3px 1px rgba(0, 0, 0, 0.15);\n",
              "      filter: drop-shadow(0px 1px 2px rgba(0, 0, 0, 0.3));\n",
              "      fill: #FFFFFF;\n",
              "    }\n",
              "  </style>\n",
              "\n",
              "      <script>\n",
              "        const buttonEl =\n",
              "          document.querySelector('#df-2f65e53e-9ef5-4c3e-9dbd-f8350cc66ec3 button.colab-df-convert');\n",
              "        buttonEl.style.display =\n",
              "          google.colab.kernel.accessAllowed ? 'block' : 'none';\n",
              "\n",
              "        async function convertToInteractive(key) {\n",
              "          const element = document.querySelector('#df-2f65e53e-9ef5-4c3e-9dbd-f8350cc66ec3');\n",
              "          const dataTable =\n",
              "            await google.colab.kernel.invokeFunction('convertToInteractive',\n",
              "                                                     [key], {});\n",
              "          if (!dataTable) return;\n",
              "\n",
              "          const docLinkHtml = 'Like what you see? Visit the ' +\n",
              "            '<a target=\"_blank\" href=https://colab.research.google.com/notebooks/data_table.ipynb>data table notebook</a>'\n",
              "            + ' to learn more about interactive tables.';\n",
              "          element.innerHTML = '';\n",
              "          dataTable['output_type'] = 'display_data';\n",
              "          await google.colab.output.renderOutput(dataTable, element);\n",
              "          const docLink = document.createElement('div');\n",
              "          docLink.innerHTML = docLinkHtml;\n",
              "          element.appendChild(docLink);\n",
              "        }\n",
              "      </script>\n",
              "    </div>\n",
              "  </div>\n",
              "  "
            ]
          },
          "metadata": {},
          "execution_count": 5
        }
      ]
    },
    {
      "cell_type": "code",
      "source": [
        "#Setting index as date\n",
        "df['Date'] = pd.to_datetime(df.Date)\n",
        "df.index = df['Date']"
      ],
      "metadata": {
        "id": "qQRI6QW2cCCh"
      },
      "execution_count": 6,
      "outputs": []
    },
    {
      "cell_type": "code",
      "source": [
        "#Converting dates into number of days as dates cannot be passed directly \n",
        "#to any regression model\n",
        "df.index = (df.index - pd.to_datetime('03-04-2017')).days"
      ],
      "metadata": {
        "id": "JUgjeMk_cIih"
      },
      "execution_count": 7,
      "outputs": []
    },
    {
      "cell_type": "code",
      "source": [
        "#Convert the pandas series into numpy array, we need to further \n",
        "#massage it before sending it to regression model\n",
        "y = np.asarray(df['Close'])\n",
        "x = np.asarray(df.index.values)"
      ],
      "metadata": {
        "id": "dWZXzr3QcSqj"
      },
      "execution_count": 8,
      "outputs": []
    },
    {
      "cell_type": "code",
      "source": [
        "#Model initialization\n",
        "#by default the degree of the equation is 1.\n",
        "#Hence the mathematical model equation is y = mx + c, \n",
        "#which is an equation of a line.\n",
        "regression_model = LinearRegression()\n"
      ],
      "metadata": {
        "id": "_5jdpW8HcXBX"
      },
      "execution_count": 9,
      "outputs": []
    },
    {
      "cell_type": "code",
      "source": [
        "#Choose the order of your polynomial. Here the degree is set to 5.\n",
        "#hence the mathematical model equation is \n",
        "#y = c0 + c1.x**1 + c2.x**2+....+ c5.x**5\n",
        "poly = PolynomialFeatures(5)\n"
      ],
      "metadata": {
        "id": "BjnOqiA3cZHb"
      },
      "execution_count": 10,
      "outputs": []
    },
    {
      "cell_type": "code",
      "source": [
        "#Convert dimension x in the higher degree polynomial expression\n",
        "X_transform = poly.fit_transform(x.reshape(-1, 1))"
      ],
      "metadata": {
        "id": "GSf_0D6qcatl"
      },
      "execution_count": 11,
      "outputs": []
    },
    {
      "cell_type": "code",
      "source": [
        "#Fit the data(train the model)\n",
        "regression_model.fit(X_transform, y.reshape(-1, 1))"
      ],
      "metadata": {
        "colab": {
          "base_uri": "https://localhost:8080/"
        },
        "id": "wfz9WXgVcd_Y",
        "outputId": "e0640dbf-d2ec-461a-a68a-c378c9fac22f"
      },
      "execution_count": 12,
      "outputs": [
        {
          "output_type": "execute_result",
          "data": {
            "text/plain": [
              "LinearRegression()"
            ]
          },
          "metadata": {},
          "execution_count": 12
        }
      ]
    },
    {
      "cell_type": "code",
      "source": [
        "# Prediction for historical dates. Let's call it learned values.\n",
        "y_learned = regression_model.predict(X_transform)"
      ],
      "metadata": {
        "id": "NBvYO_PMcgA3"
      },
      "execution_count": 13,
      "outputs": []
    },
    {
      "cell_type": "code",
      "source": [
        "#Now, add future dates to the date index and pass that index to \n",
        "#the regression model for future prediction.\n",
        "#As we have converted date index into a range index, hence, here we \n",
        "#just need to add 1825 days ( roughly 5 yrs)\n",
        "#to the previous index. x[-1] gives the last value of the series.\n",
        "newindex = np.asarray(pd.RangeIndex(start=x[-1], stop=x[-1] + 1825))"
      ],
      "metadata": {
        "id": "eVtuIPagci9u"
      },
      "execution_count": 14,
      "outputs": []
    },
    {
      "cell_type": "code",
      "source": [
        "X_extended_transform = poly.fit_transform(newindex.reshape(-1, 1))"
      ],
      "metadata": {
        "id": "gukyOtnLct7j"
      },
      "execution_count": 15,
      "outputs": []
    },
    {
      "cell_type": "code",
      "source": [
        "#Prediction for future dates. Let's call it predicted values.\n",
        "y_predict = regression_model.predict(X_extended_transform)"
      ],
      "metadata": {
        "id": "2UF7ZoXscwFs"
      },
      "execution_count": 16,
      "outputs": []
    },
    {
      "cell_type": "code",
      "source": [
        "#Print the last predicted value\n",
        "print (\"Closing price at 2023 would be around \", y_predict[-1])"
      ],
      "metadata": {
        "colab": {
          "base_uri": "https://localhost:8080/"
        },
        "id": "38QWyYaucyIM",
        "outputId": "9d518939-8f5e-45a1-8a13-41f203b26104"
      },
      "execution_count": 17,
      "outputs": [
        {
          "output_type": "stream",
          "name": "stdout",
          "text": [
            "Closing price at 2023 would be around  [-34920.70261043]\n"
          ]
        }
      ]
    },
    {
      "cell_type": "code",
      "source": [
        "#Convert the days index back to dates index for plotting the graph\n",
        "x = pd.to_datetime(df.index, origin='03-04-2017', unit='D')\n",
        "future_x = pd.to_datetime(newindex, origin='03-04-2017', unit='D')"
      ],
      "metadata": {
        "id": "f-TY2otic3F2"
      },
      "execution_count": 19,
      "outputs": []
    },
    {
      "cell_type": "code",
      "source": [
        "#Setting figure size\n",
        "from matplotlib.pylab import rcParams\n",
        "rcParams['figure.figsize'] = 20,10"
      ],
      "metadata": {
        "id": "Q3GYkdFBc7DO"
      },
      "execution_count": 20,
      "outputs": []
    },
    {
      "cell_type": "code",
      "source": [
        "\n",
        "#Plot the actual data\n",
        "plt.figure(figsize=(16,8))\n",
        "plt.plot(x,df['Close'], label='Close Price History')\n",
        "plt.plot(x,y_learned, color='r', label='Mathematical Model')\n",
        "plt.plot(future_x,y_predict, color='g', label='Future Predictions')\n",
        "plt.suptitle('Stock Market Predictions', fontsize=16)\n",
        "#Set the title of the graph window\n",
        "fig = plt.gcf()\n",
        "fig.canvas.set_window_title('Stock Market Predictions')\n",
        "#display the legends\n",
        "plt.legend()\n",
        "#display the graph\n",
        "plt.show()\n"
      ],
      "metadata": {
        "colab": {
          "base_uri": "https://localhost:8080/",
          "height": 540
        },
        "id": "LgjYxztxdFod",
        "outputId": "9051c5ed-fbc3-403f-947d-3594c412e434"
      },
      "execution_count": 22,
      "outputs": [
        {
          "output_type": "display_data",
          "data": {
            "text/plain": [
              "<Figure size 1152x576 with 1 Axes>"
            ],
            "image/png": "[encoded data removed]"
          },
          "metadata": {
            "needs_background": "light"
          }
        }
      ]
    },
    {
      "cell_type": "code",
      "source": [
        "rms=np.sqrt(np.mean(np.power((y_predict-y),2)))\n",
        "rms"
      ],
      "metadata": {
        "colab": {
          "base_uri": "https://localhost:8080/"
        },
        "id": "yU7kI9iodH-H",
        "outputId": "ea5b5907-470b-4510-a6b1-e55a71041a8e"
      },
      "execution_count": 28,
      "outputs": [
        {
          "output_type": "execute_result",
          "data": {
            "text/plain": [
              "12957.457097489925"
            ]
          },
          "metadata": {},
          "execution_count": 28
        }
      ]
    },
    {
      "cell_type": "code",
      "source": [
        ""
      ],
      "metadata": {
        "id": "8D_gXGDueJ6y"
      },
      "execution_count": null,
      "outputs": []
    }
  ]
}