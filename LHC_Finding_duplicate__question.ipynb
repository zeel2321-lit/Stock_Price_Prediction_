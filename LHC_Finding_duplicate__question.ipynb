{
  "nbformat": 4,
  "nbformat_minor": 0,
  "metadata": {
    "colab": {
      "name": "LHC_Finding_duplicate _question.ipynb",
      "provenance": [],
      "collapsed_sections": [],
      "mount_file_id": "17OjGXszQvT9rIYKyjNVGUdL4c_NDW8Ld",
      "authorship_tag": "ABX9TyM8cYhGxDilX/rPd8Ye9Gai",
      "include_colab_link": true
    },
    "kernelspec": {
      "name": "python3",
      "display_name": "Python 3"
    },
    "language_info": {
      "name": "python"
    }
  },
  "cells": [
    {
      "cell_type": "markdown",
      "metadata": {
        "id": "view-in-github",
        "colab_type": "text"
      },
      "source": [
        "<a href=\"https://colab.research.google.com/github/zeel2321-lit/Stock_Price_Prediction_/blob/main/LHC_Finding_duplicate__question.ipynb\" target=\"_parent\"><img src=\"https://colab.research.google.com/assets/colab-badge.svg\" alt=\"Open In Colab\"/></a>"
      ]
    },
    {
      "cell_type": "code",
      "execution_count": null,
      "metadata": {
        "colab": {
          "base_uri": "https://localhost:8080/",
          "height": 17
        },
        "id": "u9NMmSttB1Vz",
        "outputId": "10228fc3-9b1b-4550-d112-4f2d4089bcfa"
      },
      "outputs": [
        {
          "output_type": "display_data",
          "data": {
            "text/html": [
              "        <script type=\"text/javascript\">\n",
              "        window.PlotlyConfig = {MathJaxConfig: 'local'};\n",
              "        if (window.MathJax) {MathJax.Hub.Config({SVG: {font: \"STIX-Web\"}});}\n",
              "        if (typeof require !== 'undefined') {\n",
              "        require.undef(\"plotly\");\n",
              "        requirejs.config({\n",
              "            paths: {\n",
              "                'plotly': ['https://cdn.plot.ly/plotly-2.8.3.min']\n",
              "            }\n",
              "        });\n",
              "        require(['plotly'], function(Plotly) {\n",
              "            window._Plotly = Plotly;\n",
              "        });\n",
              "        }\n",
              "        </script>\n",
              "        "
            ]
          },
          "metadata": {}
        }
      ],
      "source": [
        "import numpy as np\n",
        "import pandas as pd\n",
        "import seaborn as sns\n",
        "import matplotlib.pyplot as plt\n",
        "from subprocess import check_output\n",
        "%matplotlib inline\n",
        "import plotly.offline as py\n",
        "py.init_notebook_mode(connected=True)\n",
        "import plotly.graph_objs as go\n",
        "import plotly.tools as tls\n",
        "import os\n",
        "import gc\n",
        "\n",
        "import re\n",
        "from nltk.corpus import stopwords\n",
        "\n",
        "from nltk.stem import PorterStemmer\n",
        "from bs4 import BeautifulSoup\n",
        "\n",
        "from sklearn.manifold import TSNE\n",
        "# Import the Required lib packages for WORD-Cloud generation\n",
        "# https://stackoverflow.com/questions/45625434/how-to-install-wordcloud-in-python3-6\n",
        "from wordcloud import WordCloud, STOPWORDS\n",
        "from os import path\n",
        "from PIL import Image"
      ]
    },
    {
      "cell_type": "code",
      "source": [
        "from google.colab import drive\n",
        "drive.mount('/content/drive')"
      ],
      "metadata": {
        "colab": {
          "base_uri": "https://localhost:8080/"
        },
        "id": "73QILsLlEACV",
        "outputId": "4e85ed22-dd36-4c52-c62a-e2dc7a531997"
      },
      "execution_count": null,
      "outputs": [
        {
          "output_type": "stream",
          "name": "stdout",
          "text": [
            "Mounted at /content/drive\n"
          ]
        }
      ]
    },
    {
      "cell_type": "code",
      "source": [
        "df_train= pd.read_csv('/content/drive/MyDrive/Machine learning/LHC dataset/dataset/postLinks.csv')"
      ],
      "metadata": {
        "id": "cZll7lT9EB1V"
      },
      "execution_count": null,
      "outputs": []
    },
    {
      "cell_type": "code",
      "source": [
        "df_train\n"
      ],
      "metadata": {
        "colab": {
          "base_uri": "https://localhost:8080/",
          "height": 423
        },
        "id": "fqVWdCJpFORu",
        "outputId": "ad7e4ee7-01bc-4e9f-ca9b-69f016c2ad57"
      },
      "execution_count": null,
      "outputs": [
        {
          "output_type": "execute_result",
          "data": {
            "text/plain": [
              "         Unnamed: 0          id            creation_date   post_id  \\\n",
              "0                 0          19  2010-04-26T02:59:48.130       109   \n",
              "1                 1          37  2010-04-26T02:59:48.600      1970   \n",
              "2                 2          42  2010-04-26T02:59:48.647      2154   \n",
              "3                 3          48  2010-04-26T02:59:48.740      2483   \n",
              "4                 4          52  2010-04-26T02:59:48.757      2572   \n",
              "...             ...         ...                      ...       ...   \n",
              "5292619     5292619  1624278139  2018-09-02T08:09:41.520  52133002   \n",
              "5292620     5292620  1624278147  2018-09-02T08:10:50.820  52134991   \n",
              "5292621     5292621  1624278315  2018-09-02T08:14:26.470  52135049   \n",
              "5292622     5292622  1624278337  2018-09-02T08:15:36.387  52135007   \n",
              "5292623     5292623  1624278449  2018-09-02T08:17:32.137  52135049   \n",
              "\n",
              "         related_post_id  link_type_id  \n",
              "0                  32412             1  \n",
              "1                 617600             1  \n",
              "2                2451138             1  \n",
              "3                 496096             1  \n",
              "4                 209329             1  \n",
              "...                  ...           ...  \n",
              "5292619         31486547             1  \n",
              "5292620          5500805             1  \n",
              "5292621         30461565             1  \n",
              "5292622          1761051             1  \n",
              "5292623          3127429             1  \n",
              "\n",
              "[5292624 rows x 6 columns]"
            ],
            "text/html": [
              "\n",
              "  <div id=\"df-8f953c93-6ed6-40d8-9e4b-9ddf76975b2f\">\n",
              "    <div class=\"colab-df-container\">\n",
              "      <div>\n",
              "<style scoped>\n",
              "    .dataframe tbody tr th:only-of-type {\n",
              "        vertical-align: middle;\n",
              "    }\n",
              "\n",
              "    .dataframe tbody tr th {\n",
              "        vertical-align: top;\n",
              "    }\n",
              "\n",
              "    .dataframe thead th {\n",
              "        text-align: right;\n",
              "    }\n",
              "</style>\n",
              "<table border=\"1\" class=\"dataframe\">\n",
              "  <thead>\n",
              "    <tr style=\"text-align: right;\">\n",
              "      <th></th>\n",
              "      <th>Unnamed: 0</th>\n",
              "      <th>id</th>\n",
              "      <th>creation_date</th>\n",
              "      <th>post_id</th>\n",
              "      <th>related_post_id</th>\n",
              "      <th>link_type_id</th>\n",
              "    </tr>\n",
              "  </thead>\n",
              "  <tbody>\n",
              "    <tr>\n",
              "      <th>0</th>\n",
              "      <td>0</td>\n",
              "      <td>19</td>\n",
              "      <td>2010-04-26T02:59:48.130</td>\n",
              "      <td>109</td>\n",
              "      <td>32412</td>\n",
              "      <td>1</td>\n",
              "    </tr>\n",
              "    <tr>\n",
              "      <th>1</th>\n",
              "      <td>1</td>\n",
              "      <td>37</td>\n",
              "      <td>2010-04-26T02:59:48.600</td>\n",
              "      <td>1970</td>\n",
              "      <td>617600</td>\n",
              "      <td>1</td>\n",
              "    </tr>\n",
              "    <tr>\n",
              "      <th>2</th>\n",
              "      <td>2</td>\n",
              "      <td>42</td>\n",
              "      <td>2010-04-26T02:59:48.647</td>\n",
              "      <td>2154</td>\n",
              "      <td>2451138</td>\n",
              "      <td>1</td>\n",
              "    </tr>\n",
              "    <tr>\n",
              "      <th>3</th>\n",
              "      <td>3</td>\n",
              "      <td>48</td>\n",
              "      <td>2010-04-26T02:59:48.740</td>\n",
              "      <td>2483</td>\n",
              "      <td>496096</td>\n",
              "      <td>1</td>\n",
              "    </tr>\n",
              "    <tr>\n",
              "      <th>4</th>\n",
              "      <td>4</td>\n",
              "      <td>52</td>\n",
              "      <td>2010-04-26T02:59:48.757</td>\n",
              "      <td>2572</td>\n",
              "      <td>209329</td>\n",
              "      <td>1</td>\n",
              "    </tr>\n",
              "    <tr>\n",
              "      <th>...</th>\n",
              "      <td>...</td>\n",
              "      <td>...</td>\n",
              "      <td>...</td>\n",
              "      <td>...</td>\n",
              "      <td>...</td>\n",
              "      <td>...</td>\n",
              "    </tr>\n",
              "    <tr>\n",
              "      <th>5292619</th>\n",
              "      <td>5292619</td>\n",
              "      <td>1624278139</td>\n",
              "      <td>2018-09-02T08:09:41.520</td>\n",
              "      <td>52133002</td>\n",
              "      <td>31486547</td>\n",
              "      <td>1</td>\n",
              "    </tr>\n",
              "    <tr>\n",
              "      <th>5292620</th>\n",
              "      <td>5292620</td>\n",
              "      <td>1624278147</td>\n",
              "      <td>2018-09-02T08:10:50.820</td>\n",
              "      <td>52134991</td>\n",
              "      <td>5500805</td>\n",
              "      <td>1</td>\n",
              "    </tr>\n",
              "    <tr>\n",
              "      <th>5292621</th>\n",
              "      <td>5292621</td>\n",
              "      <td>1624278315</td>\n",
              "      <td>2018-09-02T08:14:26.470</td>\n",
              "      <td>52135049</td>\n",
              "      <td>30461565</td>\n",
              "      <td>1</td>\n",
              "    </tr>\n",
              "    <tr>\n",
              "      <th>5292622</th>\n",
              "      <td>5292622</td>\n",
              "      <td>1624278337</td>\n",
              "      <td>2018-09-02T08:15:36.387</td>\n",
              "      <td>52135007</td>\n",
              "      <td>1761051</td>\n",
              "      <td>1</td>\n",
              "    </tr>\n",
              "    <tr>\n",
              "      <th>5292623</th>\n",
              "      <td>5292623</td>\n",
              "      <td>1624278449</td>\n",
              "      <td>2018-09-02T08:17:32.137</td>\n",
              "      <td>52135049</td>\n",
              "      <td>3127429</td>\n",
              "      <td>1</td>\n",
              "    </tr>\n",
              "  </tbody>\n",
              "</table>\n",
              "<p>5292624 rows × 6 columns</p>\n",
              "</div>\n",
              "      <button class=\"colab-df-convert\" onclick=\"convertToInteractive('df-8f953c93-6ed6-40d8-9e4b-9ddf76975b2f')\"\n",
              "              title=\"Convert this dataframe to an interactive table.\"\n",
              "              style=\"display:none;\">\n",
              "        \n",
              "  <svg xmlns=\"http://www.w3.org/2000/svg\" height=\"24px\"viewBox=\"0 0 24 24\"\n",
              "       width=\"24px\">\n",
              "    <path d=\"M0 0h24v24H0V0z\" fill=\"none\"/>\n",
              "    <path d=\"M18.56 5.44l.94 2.06.94-2.06 2.06-.94-2.06-.94-.94-2.06-.94 2.06-2.06.94zm-11 1L8.5 8.5l.94-2.06 2.06-.94-2.06-.94L8.5 2.5l-.94 2.06-2.06.94zm10 10l.94 2.06.94-2.06 2.06-.94-2.06-.94-.94-2.06-.94 2.06-2.06.94z\"/><path d=\"M17.41 7.96l-1.37-1.37c-.4-.4-.92-.59-1.43-.59-.52 0-1.04.2-1.43.59L10.3 9.45l-7.72 7.72c-.78.78-.78 2.05 0 2.83L4 21.41c.39.39.9.59 1.41.59.51 0 1.02-.2 1.41-.59l7.78-7.78 2.81-2.81c.8-.78.8-2.07 0-2.86zM5.41 20L4 18.59l7.72-7.72 1.47 1.35L5.41 20z\"/>\n",
              "  </svg>\n",
              "      </button>\n",
              "      \n",
              "  <style>\n",
              "    .colab-df-container {\n",
              "      display:flex;\n",
              "      flex-wrap:wrap;\n",
              "      gap: 12px;\n",
              "    }\n",
              "\n",
              "    .colab-df-convert {\n",
              "      background-color: #E8F0FE;\n",
              "      border: none;\n",
              "      border-radius: 50%;\n",
              "      cursor: pointer;\n",
              "      display: none;\n",
              "      fill: #1967D2;\n",
              "      height: 32px;\n",
              "      padding: 0 0 0 0;\n",
              "      width: 32px;\n",
              "    }\n",
              "\n",
              "    .colab-df-convert:hover {\n",
              "      background-color: #E2EBFA;\n",
              "      box-shadow: 0px 1px 2px rgba(60, 64, 67, 0.3), 0px 1px 3px 1px rgba(60, 64, 67, 0.15);\n",
              "      fill: #174EA6;\n",
              "    }\n",
              "\n",
              "    [theme=dark] .colab-df-convert {\n",
              "      background-color: #3B4455;\n",
              "      fill: #D2E3FC;\n",
              "    }\n",
              "\n",
              "    [theme=dark] .colab-df-convert:hover {\n",
              "      background-color: #434B5C;\n",
              "      box-shadow: 0px 1px 3px 1px rgba(0, 0, 0, 0.15);\n",
              "      filter: drop-shadow(0px 1px 2px rgba(0, 0, 0, 0.3));\n",
              "      fill: #FFFFFF;\n",
              "    }\n",
              "  </style>\n",
              "\n",
              "      <script>\n",
              "        const buttonEl =\n",
              "          document.querySelector('#df-8f953c93-6ed6-40d8-9e4b-9ddf76975b2f button.colab-df-convert');\n",
              "        buttonEl.style.display =\n",
              "          google.colab.kernel.accessAllowed ? 'block' : 'none';\n",
              "\n",
              "        async function convertToInteractive(key) {\n",
              "          const element = document.querySelector('#df-8f953c93-6ed6-40d8-9e4b-9ddf76975b2f');\n",
              "          const dataTable =\n",
              "            await google.colab.kernel.invokeFunction('convertToInteractive',\n",
              "                                                     [key], {});\n",
              "          if (!dataTable) return;\n",
              "\n",
              "          const docLinkHtml = 'Like what you see? Visit the ' +\n",
              "            '<a target=\"_blank\" href=https://colab.research.google.com/notebooks/data_table.ipynb>data table notebook</a>'\n",
              "            + ' to learn more about interactive tables.';\n",
              "          element.innerHTML = '';\n",
              "          dataTable['output_type'] = 'display_data';\n",
              "          await google.colab.output.renderOutput(dataTable, element);\n",
              "          const docLink = document.createElement('div');\n",
              "          docLink.innerHTML = docLinkHtml;\n",
              "          element.appendChild(docLink);\n",
              "        }\n",
              "      </script>\n",
              "    </div>\n",
              "  </div>\n",
              "  "
            ]
          },
          "metadata": {},
          "execution_count": 29
        }
      ]
    },
    {
      "cell_type": "markdown",
      "source": [
        "Id primary key\n",
        "\n",
        "CreationDate when the link was created\n",
        "\n",
        "PostId id of source post\n",
        "\n",
        "RelatedPostId id of target/related post\n",
        "\n",
        "LinkTypeId type of link\n",
        "\n",
        "1 = Linked (PostId contains a link to RelatedPostId)\n",
        "\n",
        "3 = Duplicate (PostId is a duplicate of RelatedPostId)\n"
      ],
      "metadata": {
        "id": "IP013kuZFsMv"
      }
    },
    {
      "cell_type": "code",
      "source": [
        "data[data.isnull().any(axis=1)]"
      ],
      "metadata": {
        "colab": {
          "base_uri": "https://localhost:8080/",
          "height": 49
        },
        "id": "J9M-wgoNFgkb",
        "outputId": "f80e6e97-b101-4442-8c2a-1025d773ab7a"
      },
      "execution_count": null,
      "outputs": [
        {
          "output_type": "execute_result",
          "data": {
            "text/plain": [
              "Empty DataFrame\n",
              "Columns: [Unnamed: 0, id, creation_date, post_id, related_post_id, link_type_id]\n",
              "Index: []"
            ],
            "text/html": [
              "\n",
              "  <div id=\"df-a27251c1-c2ed-497f-b609-4fdb01cd8e4f\">\n",
              "    <div class=\"colab-df-container\">\n",
              "      <div>\n",
              "<style scoped>\n",
              "    .dataframe tbody tr th:only-of-type {\n",
              "        vertical-align: middle;\n",
              "    }\n",
              "\n",
              "    .dataframe tbody tr th {\n",
              "        vertical-align: top;\n",
              "    }\n",
              "\n",
              "    .dataframe thead th {\n",
              "        text-align: right;\n",
              "    }\n",
              "</style>\n",
              "<table border=\"1\" class=\"dataframe\">\n",
              "  <thead>\n",
              "    <tr style=\"text-align: right;\">\n",
              "      <th></th>\n",
              "      <th>Unnamed: 0</th>\n",
              "      <th>id</th>\n",
              "      <th>creation_date</th>\n",
              "      <th>post_id</th>\n",
              "      <th>related_post_id</th>\n",
              "      <th>link_type_id</th>\n",
              "    </tr>\n",
              "  </thead>\n",
              "  <tbody>\n",
              "  </tbody>\n",
              "</table>\n",
              "</div>\n",
              "      <button class=\"colab-df-convert\" onclick=\"convertToInteractive('df-a27251c1-c2ed-497f-b609-4fdb01cd8e4f')\"\n",
              "              title=\"Convert this dataframe to an interactive table.\"\n",
              "              style=\"display:none;\">\n",
              "        \n",
              "  <svg xmlns=\"http://www.w3.org/2000/svg\" height=\"24px\"viewBox=\"0 0 24 24\"\n",
              "       width=\"24px\">\n",
              "    <path d=\"M0 0h24v24H0V0z\" fill=\"none\"/>\n",
              "    <path d=\"M18.56 5.44l.94 2.06.94-2.06 2.06-.94-2.06-.94-.94-2.06-.94 2.06-2.06.94zm-11 1L8.5 8.5l.94-2.06 2.06-.94-2.06-.94L8.5 2.5l-.94 2.06-2.06.94zm10 10l.94 2.06.94-2.06 2.06-.94-2.06-.94-.94-2.06-.94 2.06-2.06.94z\"/><path d=\"M17.41 7.96l-1.37-1.37c-.4-.4-.92-.59-1.43-.59-.52 0-1.04.2-1.43.59L10.3 9.45l-7.72 7.72c-.78.78-.78 2.05 0 2.83L4 21.41c.39.39.9.59 1.41.59.51 0 1.02-.2 1.41-.59l7.78-7.78 2.81-2.81c.8-.78.8-2.07 0-2.86zM5.41 20L4 18.59l7.72-7.72 1.47 1.35L5.41 20z\"/>\n",
              "  </svg>\n",
              "      </button>\n",
              "      \n",
              "  <style>\n",
              "    .colab-df-container {\n",
              "      display:flex;\n",
              "      flex-wrap:wrap;\n",
              "      gap: 12px;\n",
              "    }\n",
              "\n",
              "    .colab-df-convert {\n",
              "      background-color: #E8F0FE;\n",
              "      border: none;\n",
              "      border-radius: 50%;\n",
              "      cursor: pointer;\n",
              "      display: none;\n",
              "      fill: #1967D2;\n",
              "      height: 32px;\n",
              "      padding: 0 0 0 0;\n",
              "      width: 32px;\n",
              "    }\n",
              "\n",
              "    .colab-df-convert:hover {\n",
              "      background-color: #E2EBFA;\n",
              "      box-shadow: 0px 1px 2px rgba(60, 64, 67, 0.3), 0px 1px 3px 1px rgba(60, 64, 67, 0.15);\n",
              "      fill: #174EA6;\n",
              "    }\n",
              "\n",
              "    [theme=dark] .colab-df-convert {\n",
              "      background-color: #3B4455;\n",
              "      fill: #D2E3FC;\n",
              "    }\n",
              "\n",
              "    [theme=dark] .colab-df-convert:hover {\n",
              "      background-color: #434B5C;\n",
              "      box-shadow: 0px 1px 3px 1px rgba(0, 0, 0, 0.15);\n",
              "      filter: drop-shadow(0px 1px 2px rgba(0, 0, 0, 0.3));\n",
              "      fill: #FFFFFF;\n",
              "    }\n",
              "  </style>\n",
              "\n",
              "      <script>\n",
              "        const buttonEl =\n",
              "          document.querySelector('#df-a27251c1-c2ed-497f-b609-4fdb01cd8e4f button.colab-df-convert');\n",
              "        buttonEl.style.display =\n",
              "          google.colab.kernel.accessAllowed ? 'block' : 'none';\n",
              "\n",
              "        async function convertToInteractive(key) {\n",
              "          const element = document.querySelector('#df-a27251c1-c2ed-497f-b609-4fdb01cd8e4f');\n",
              "          const dataTable =\n",
              "            await google.colab.kernel.invokeFunction('convertToInteractive',\n",
              "                                                     [key], {});\n",
              "          if (!dataTable) return;\n",
              "\n",
              "          const docLinkHtml = 'Like what you see? Visit the ' +\n",
              "            '<a target=\"_blank\" href=https://colab.research.google.com/notebooks/data_table.ipynb>data table notebook</a>'\n",
              "            + ' to learn more about interactive tables.';\n",
              "          element.innerHTML = '';\n",
              "          dataTable['output_type'] = 'display_data';\n",
              "          await google.colab.output.renderOutput(dataTable, element);\n",
              "          const docLink = document.createElement('div');\n",
              "          docLink.innerHTML = docLinkHtml;\n",
              "          element.appendChild(docLink);\n",
              "        }\n",
              "      </script>\n",
              "    </div>\n",
              "  </div>\n",
              "  "
            ]
          },
          "metadata": {},
          "execution_count": 30
        }
      ]
    },
    {
      "cell_type": "code",
      "source": [
        "print(\"(1). Total number of questation pairs for training:- {}\". format(len(df_train)))\n",
        "print(\"(2). Questation pairs are related (link_type_id==1) in percentage:- {}%\".format(round(df_train['link_type_id'].mean()*100,2)-100))\n",
        "print(\"(3). Questation pairs are duplicate (link_type_id==3) in percentage:- {}%\".format(round(df_train['link_type_id'].mean()*100,2)))"
      ],
      "metadata": {
        "colab": {
          "base_uri": "https://localhost:8080/"
        },
        "id": "oVDEaLUvGTiG",
        "outputId": "f876276f-0bc6-4792-fc0d-4548b068eb1c"
      },
      "execution_count": null,
      "outputs": [
        {
          "output_type": "stream",
          "name": "stdout",
          "text": [
            "(1). Total number of questation pairs for training:- 5292624\n",
            "(2). Questation pairs are related (link_type_id==1) in percentage:- 25.78%\n",
            "(3). Questation pairs are duplicate (link_type_id==3) in percentage:- 125.78%\n"
          ]
        }
      ]
    },
    {
      "cell_type": "code",
      "source": [
        "data= pd.read_csv('/content/drive/MyDrive/Machine learning/LHC dataset/dataset/posts_short.csv')"
      ],
      "metadata": {
        "colab": {
          "base_uri": "https://localhost:8080/"
        },
        "id": "fM7JMITeGglJ",
        "outputId": "99e86358-4bd0-46a3-b81b-2fddf48c2be6"
      },
      "execution_count": null,
      "outputs": [
        {
          "output_type": "stream",
          "name": "stderr",
          "text": [
            "/usr/local/lib/python3.7/dist-packages/IPython/core/interactiveshell.py:2882: DtypeWarning:\n",
            "\n",
            "Columns (13) have mixed types.Specify dtype option on import or set low_memory=False.\n",
            "\n"
          ]
        }
      ]
    },
    {
      "cell_type": "code",
      "source": [
        "data"
      ],
      "metadata": {
        "colab": {
          "base_uri": "https://localhost:8080/",
          "height": 991
        },
        "id": "wUuRgV38Mbzj",
        "outputId": "34245f6d-36a2-4d99-fd74-be672911f996"
      },
      "execution_count": null,
      "outputs": [
        {
          "output_type": "execute_result",
          "data": {
            "text/plain": [
              "        Unnamed: 0        id  post_type_id  accepted_answer_id  parent_id  \\\n",
              "0                0         4             1                   7       -999   \n",
              "1                1         6             1                  31       -999   \n",
              "2                2         9             1                1404       -999   \n",
              "3                3        11             1                1248       -999   \n",
              "4                4        13             1                -999       -999   \n",
              "...            ...       ...           ...                 ...        ...   \n",
              "676199      676199  52133457             1                -999       -999   \n",
              "676200      676200  52133674             1                -999       -999   \n",
              "676201      676201  52133700             1                -999       -999   \n",
              "676202      676202  52133880             1                -999       -999   \n",
              "676203      676203  52134121             1                -999       -999   \n",
              "\n",
              "                  creation_date  score  view_count  owner_user_id  \\\n",
              "0       2008-07-31T21:42:52.667    573       37080              8   \n",
              "1       2008-07-31T22:08:08.620    256       16306              9   \n",
              "2       2008-07-31T23:40:59.743   1743      480476              1   \n",
              "3       2008-07-31T23:55:37.967   1348      136033              1   \n",
              "4       2008-08-01T00:42:38.903    539      157009              9   \n",
              "...                         ...    ...         ...            ...   \n",
              "676199  2018-09-02T02:10:04.210      0          14        4101319   \n",
              "676200  2018-09-02T03:08:51.103     -3          16        9815281   \n",
              "676201  2018-09-02T03:15:42.997      0          23        4044009   \n",
              "676202  2018-09-02T04:04:31.570      0          15       10271692   \n",
              "676203  2018-09-02T05:02:16.480      0          12       10049938   \n",
              "\n",
              "                                                     tags  answer_count  \\\n",
              "0       <c#><floating-point><type-conversion><double><...            13   \n",
              "1                  <html><css><css3><internet-explorer-7>             5   \n",
              "2                                    <c#><.net><datetime>            64   \n",
              "3       <c#><datetime><time><datediff><relative-time-s...            35   \n",
              "4       <javascript><html><browser><timezone><timezone...            25   \n",
              "...                                                   ...           ...   \n",
              "676199                                   <python><import>             0   \n",
              "676200                   <java><firebase><android-studio>             0   \n",
              "676201                                                <c>             0   \n",
              "676202                         <angularjs><node.js><ajax>             1   \n",
              "676203                                        <php><html>             2   \n",
              "\n",
              "        comment_count  favorite_count     community_owned_date  \n",
              "0                   1              41  2012-10-31T16:42:47.213  \n",
              "1                   0              10                      NaN  \n",
              "2                   7             399  2011-08-16T19:40:43.080  \n",
              "3                   3             529  2009-09-04T13:15:59.820  \n",
              "4                   6             137                      NaN  \n",
              "...               ...             ...                      ...  \n",
              "676199              0               0                      NaN  \n",
              "676200              2               0                      NaN  \n",
              "676201              1               0                      NaN  \n",
              "676202              1               0                      NaN  \n",
              "676203              1               0                      NaN  \n",
              "\n",
              "[676204 rows x 14 columns]"
            ],
            "text/html": [
              "\n",
              "  <div id=\"df-d6161c54-fd79-495d-b5d3-ca558effbac5\">\n",
              "    <div class=\"colab-df-container\">\n",
              "      <div>\n",
              "<style scoped>\n",
              "    .dataframe tbody tr th:only-of-type {\n",
              "        vertical-align: middle;\n",
              "    }\n",
              "\n",
              "    .dataframe tbody tr th {\n",
              "        vertical-align: top;\n",
              "    }\n",
              "\n",
              "    .dataframe thead th {\n",
              "        text-align: right;\n",
              "    }\n",
              "</style>\n",
              "<table border=\"1\" class=\"dataframe\">\n",
              "  <thead>\n",
              "    <tr style=\"text-align: right;\">\n",
              "      <th></th>\n",
              "      <th>Unnamed: 0</th>\n",
              "      <th>id</th>\n",
              "      <th>post_type_id</th>\n",
              "      <th>accepted_answer_id</th>\n",
              "      <th>parent_id</th>\n",
              "      <th>creation_date</th>\n",
              "      <th>score</th>\n",
              "      <th>view_count</th>\n",
              "      <th>owner_user_id</th>\n",
              "      <th>tags</th>\n",
              "      <th>answer_count</th>\n",
              "      <th>comment_count</th>\n",
              "      <th>favorite_count</th>\n",
              "      <th>community_owned_date</th>\n",
              "    </tr>\n",
              "  </thead>\n",
              "  <tbody>\n",
              "    <tr>\n",
              "      <th>0</th>\n",
              "      <td>0</td>\n",
              "      <td>4</td>\n",
              "      <td>1</td>\n",
              "      <td>7</td>\n",
              "      <td>-999</td>\n",
              "      <td>2008-07-31T21:42:52.667</td>\n",
              "      <td>573</td>\n",
              "      <td>37080</td>\n",
              "      <td>8</td>\n",
              "      <td>&lt;c#&gt;&lt;floating-point&gt;&lt;type-conversion&gt;&lt;double&gt;&lt;...</td>\n",
              "      <td>13</td>\n",
              "      <td>1</td>\n",
              "      <td>41</td>\n",
              "      <td>2012-10-31T16:42:47.213</td>\n",
              "    </tr>\n",
              "    <tr>\n",
              "      <th>1</th>\n",
              "      <td>1</td>\n",
              "      <td>6</td>\n",
              "      <td>1</td>\n",
              "      <td>31</td>\n",
              "      <td>-999</td>\n",
              "      <td>2008-07-31T22:08:08.620</td>\n",
              "      <td>256</td>\n",
              "      <td>16306</td>\n",
              "      <td>9</td>\n",
              "      <td>&lt;html&gt;&lt;css&gt;&lt;css3&gt;&lt;internet-explorer-7&gt;</td>\n",
              "      <td>5</td>\n",
              "      <td>0</td>\n",
              "      <td>10</td>\n",
              "      <td>NaN</td>\n",
              "    </tr>\n",
              "    <tr>\n",
              "      <th>2</th>\n",
              "      <td>2</td>\n",
              "      <td>9</td>\n",
              "      <td>1</td>\n",
              "      <td>1404</td>\n",
              "      <td>-999</td>\n",
              "      <td>2008-07-31T23:40:59.743</td>\n",
              "      <td>1743</td>\n",
              "      <td>480476</td>\n",
              "      <td>1</td>\n",
              "      <td>&lt;c#&gt;&lt;.net&gt;&lt;datetime&gt;</td>\n",
              "      <td>64</td>\n",
              "      <td>7</td>\n",
              "      <td>399</td>\n",
              "      <td>2011-08-16T19:40:43.080</td>\n",
              "    </tr>\n",
              "    <tr>\n",
              "      <th>3</th>\n",
              "      <td>3</td>\n",
              "      <td>11</td>\n",
              "      <td>1</td>\n",
              "      <td>1248</td>\n",
              "      <td>-999</td>\n",
              "      <td>2008-07-31T23:55:37.967</td>\n",
              "      <td>1348</td>\n",
              "      <td>136033</td>\n",
              "      <td>1</td>\n",
              "      <td>&lt;c#&gt;&lt;datetime&gt;&lt;time&gt;&lt;datediff&gt;&lt;relative-time-s...</td>\n",
              "      <td>35</td>\n",
              "      <td>3</td>\n",
              "      <td>529</td>\n",
              "      <td>2009-09-04T13:15:59.820</td>\n",
              "    </tr>\n",
              "    <tr>\n",
              "      <th>4</th>\n",
              "      <td>4</td>\n",
              "      <td>13</td>\n",
              "      <td>1</td>\n",
              "      <td>-999</td>\n",
              "      <td>-999</td>\n",
              "      <td>2008-08-01T00:42:38.903</td>\n",
              "      <td>539</td>\n",
              "      <td>157009</td>\n",
              "      <td>9</td>\n",
              "      <td>&lt;javascript&gt;&lt;html&gt;&lt;browser&gt;&lt;timezone&gt;&lt;timezone...</td>\n",
              "      <td>25</td>\n",
              "      <td>6</td>\n",
              "      <td>137</td>\n",
              "      <td>NaN</td>\n",
              "    </tr>\n",
              "    <tr>\n",
              "      <th>...</th>\n",
              "      <td>...</td>\n",
              "      <td>...</td>\n",
              "      <td>...</td>\n",
              "      <td>...</td>\n",
              "      <td>...</td>\n",
              "      <td>...</td>\n",
              "      <td>...</td>\n",
              "      <td>...</td>\n",
              "      <td>...</td>\n",
              "      <td>...</td>\n",
              "      <td>...</td>\n",
              "      <td>...</td>\n",
              "      <td>...</td>\n",
              "      <td>...</td>\n",
              "    </tr>\n",
              "    <tr>\n",
              "      <th>676199</th>\n",
              "      <td>676199</td>\n",
              "      <td>52133457</td>\n",
              "      <td>1</td>\n",
              "      <td>-999</td>\n",
              "      <td>-999</td>\n",
              "      <td>2018-09-02T02:10:04.210</td>\n",
              "      <td>0</td>\n",
              "      <td>14</td>\n",
              "      <td>4101319</td>\n",
              "      <td>&lt;python&gt;&lt;import&gt;</td>\n",
              "      <td>0</td>\n",
              "      <td>0</td>\n",
              "      <td>0</td>\n",
              "      <td>NaN</td>\n",
              "    </tr>\n",
              "    <tr>\n",
              "      <th>676200</th>\n",
              "      <td>676200</td>\n",
              "      <td>52133674</td>\n",
              "      <td>1</td>\n",
              "      <td>-999</td>\n",
              "      <td>-999</td>\n",
              "      <td>2018-09-02T03:08:51.103</td>\n",
              "      <td>-3</td>\n",
              "      <td>16</td>\n",
              "      <td>9815281</td>\n",
              "      <td>&lt;java&gt;&lt;firebase&gt;&lt;android-studio&gt;</td>\n",
              "      <td>0</td>\n",
              "      <td>2</td>\n",
              "      <td>0</td>\n",
              "      <td>NaN</td>\n",
              "    </tr>\n",
              "    <tr>\n",
              "      <th>676201</th>\n",
              "      <td>676201</td>\n",
              "      <td>52133700</td>\n",
              "      <td>1</td>\n",
              "      <td>-999</td>\n",
              "      <td>-999</td>\n",
              "      <td>2018-09-02T03:15:42.997</td>\n",
              "      <td>0</td>\n",
              "      <td>23</td>\n",
              "      <td>4044009</td>\n",
              "      <td>&lt;c&gt;</td>\n",
              "      <td>0</td>\n",
              "      <td>1</td>\n",
              "      <td>0</td>\n",
              "      <td>NaN</td>\n",
              "    </tr>\n",
              "    <tr>\n",
              "      <th>676202</th>\n",
              "      <td>676202</td>\n",
              "      <td>52133880</td>\n",
              "      <td>1</td>\n",
              "      <td>-999</td>\n",
              "      <td>-999</td>\n",
              "      <td>2018-09-02T04:04:31.570</td>\n",
              "      <td>0</td>\n",
              "      <td>15</td>\n",
              "      <td>10271692</td>\n",
              "      <td>&lt;angularjs&gt;&lt;node.js&gt;&lt;ajax&gt;</td>\n",
              "      <td>1</td>\n",
              "      <td>1</td>\n",
              "      <td>0</td>\n",
              "      <td>NaN</td>\n",
              "    </tr>\n",
              "    <tr>\n",
              "      <th>676203</th>\n",
              "      <td>676203</td>\n",
              "      <td>52134121</td>\n",
              "      <td>1</td>\n",
              "      <td>-999</td>\n",
              "      <td>-999</td>\n",
              "      <td>2018-09-02T05:02:16.480</td>\n",
              "      <td>0</td>\n",
              "      <td>12</td>\n",
              "      <td>10049938</td>\n",
              "      <td>&lt;php&gt;&lt;html&gt;</td>\n",
              "      <td>2</td>\n",
              "      <td>1</td>\n",
              "      <td>0</td>\n",
              "      <td>NaN</td>\n",
              "    </tr>\n",
              "  </tbody>\n",
              "</table>\n",
              "<p>676204 rows × 14 columns</p>\n",
              "</div>\n",
              "      <button class=\"colab-df-convert\" onclick=\"convertToInteractive('df-d6161c54-fd79-495d-b5d3-ca558effbac5')\"\n",
              "              title=\"Convert this dataframe to an interactive table.\"\n",
              "              style=\"display:none;\">\n",
              "        \n",
              "  <svg xmlns=\"http://www.w3.org/2000/svg\" height=\"24px\"viewBox=\"0 0 24 24\"\n",
              "       width=\"24px\">\n",
              "    <path d=\"M0 0h24v24H0V0z\" fill=\"none\"/>\n",
              "    <path d=\"M18.56 5.44l.94 2.06.94-2.06 2.06-.94-2.06-.94-.94-2.06-.94 2.06-2.06.94zm-11 1L8.5 8.5l.94-2.06 2.06-.94-2.06-.94L8.5 2.5l-.94 2.06-2.06.94zm10 10l.94 2.06.94-2.06 2.06-.94-2.06-.94-.94-2.06-.94 2.06-2.06.94z\"/><path d=\"M17.41 7.96l-1.37-1.37c-.4-.4-.92-.59-1.43-.59-.52 0-1.04.2-1.43.59L10.3 9.45l-7.72 7.72c-.78.78-.78 2.05 0 2.83L4 21.41c.39.39.9.59 1.41.59.51 0 1.02-.2 1.41-.59l7.78-7.78 2.81-2.81c.8-.78.8-2.07 0-2.86zM5.41 20L4 18.59l7.72-7.72 1.47 1.35L5.41 20z\"/>\n",
              "  </svg>\n",
              "      </button>\n",
              "      \n",
              "  <style>\n",
              "    .colab-df-container {\n",
              "      display:flex;\n",
              "      flex-wrap:wrap;\n",
              "      gap: 12px;\n",
              "    }\n",
              "\n",
              "    .colab-df-convert {\n",
              "      background-color: #E8F0FE;\n",
              "      border: none;\n",
              "      border-radius: 50%;\n",
              "      cursor: pointer;\n",
              "      display: none;\n",
              "      fill: #1967D2;\n",
              "      height: 32px;\n",
              "      padding: 0 0 0 0;\n",
              "      width: 32px;\n",
              "    }\n",
              "\n",
              "    .colab-df-convert:hover {\n",
              "      background-color: #E2EBFA;\n",
              "      box-shadow: 0px 1px 2px rgba(60, 64, 67, 0.3), 0px 1px 3px 1px rgba(60, 64, 67, 0.15);\n",
              "      fill: #174EA6;\n",
              "    }\n",
              "\n",
              "    [theme=dark] .colab-df-convert {\n",
              "      background-color: #3B4455;\n",
              "      fill: #D2E3FC;\n",
              "    }\n",
              "\n",
              "    [theme=dark] .colab-df-convert:hover {\n",
              "      background-color: #434B5C;\n",
              "      box-shadow: 0px 1px 3px 1px rgba(0, 0, 0, 0.15);\n",
              "      filter: drop-shadow(0px 1px 2px rgba(0, 0, 0, 0.3));\n",
              "      fill: #FFFFFF;\n",
              "    }\n",
              "  </style>\n",
              "\n",
              "      <script>\n",
              "        const buttonEl =\n",
              "          document.querySelector('#df-d6161c54-fd79-495d-b5d3-ca558effbac5 button.colab-df-convert');\n",
              "        buttonEl.style.display =\n",
              "          google.colab.kernel.accessAllowed ? 'block' : 'none';\n",
              "\n",
              "        async function convertToInteractive(key) {\n",
              "          const element = document.querySelector('#df-d6161c54-fd79-495d-b5d3-ca558effbac5');\n",
              "          const dataTable =\n",
              "            await google.colab.kernel.invokeFunction('convertToInteractive',\n",
              "                                                     [key], {});\n",
              "          if (!dataTable) return;\n",
              "\n",
              "          const docLinkHtml = 'Like what you see? Visit the ' +\n",
              "            '<a target=\"_blank\" href=https://colab.research.google.com/notebooks/data_table.ipynb>data table notebook</a>'\n",
              "            + ' to learn more about interactive tables.';\n",
              "          element.innerHTML = '';\n",
              "          dataTable['output_type'] = 'display_data';\n",
              "          await google.colab.output.renderOutput(dataTable, element);\n",
              "          const docLink = document.createElement('div');\n",
              "          docLink.innerHTML = docLinkHtml;\n",
              "          element.appendChild(docLink);\n",
              "        }\n",
              "      </script>\n",
              "    </div>\n",
              "  </div>\n",
              "  "
            ]
          },
          "metadata": {},
          "execution_count": 37
        }
      ]
    },
    {
      "cell_type": "markdown",
      "source": [
        "1. Determine the Number of Tags Per Question\n"
      ],
      "metadata": {
        "id": "DAJD0wzJYZ19"
      }
    },
    {
      "cell_type": "code",
      "source": [
        "tag_short=data.values[:,9]\n",
        "tagshort2=list()\n",
        "tags=list()\n",
        "for i in range(20):\n",
        "  x=tag_short[i].split(\"<\")\n",
        "  s=\"\".join(x)\n",
        "  x= s.split(\">\")\n",
        "  x.pop()\n",
        "  tagshort2.append(x)\n",
        "  tags.append(len(x))\n",
        "  print(len(x))\n",
        "  print(x)"
      ],
      "metadata": {
        "colab": {
          "base_uri": "https://localhost:8080/"
        },
        "id": "-bsCr_o8McuX",
        "outputId": "ae13988e-5ca1-4656-b6d1-4c649452f8f5"
      },
      "execution_count": null,
      "outputs": [
        {
          "output_type": "stream",
          "name": "stdout",
          "text": [
            "5\n",
            "['c#', 'floating-point', 'type-conversion', 'double', 'decimal']\n",
            "4\n",
            "['html', 'css', 'css3', 'internet-explorer-7']\n",
            "3\n",
            "['c#', '.net', 'datetime']\n",
            "5\n",
            "['c#', 'datetime', 'time', 'datediff', 'relative-time-span']\n",
            "5\n",
            "['javascript', 'html', 'browser', 'timezone', 'timezoneoffset']\n",
            "2\n",
            "['.net', 'math']\n",
            "4\n",
            "['mysql', 'database', 'binary-data', 'data-storage']\n",
            "3\n",
            "['mysql', 'database', 'triggers']\n",
            "4\n",
            "['sql', 'sql-server', 'datatable', 'rdbms']\n",
            "4\n",
            "['php', 'plugins', 'architecture', 'hook']\n",
            "4\n",
            "['html', 'form-submit', 'html-form', 'submit-button']\n",
            "3\n",
            "['c#', 'linq', '.net-3.5']\n",
            "5\n",
            "['linux', 'winapi', 'visual-c++', 'unix', 'timer']\n",
            "4\n",
            "['svn', 'tortoisesvn', 'branch', 'branching-and-merging']\n",
            "4\n",
            "['.net', 'performance', 'memory-leaks', 'com-interop']\n",
            "4\n",
            "['java', 'xml', 'csv', 'data-conversion']\n",
            "4\n",
            "['java', 'php', 'oop', 'theory']\n",
            "5\n",
            "['mysql', 'sql-server', 'csv', 'sql-server-2005', 'bcp']\n",
            "4\n",
            "['sql-server', 'database', 'svn', 'version-control']\n",
            "4\n",
            "['algorithm', 'language-agnostic', 'colors', 'color-space']\n"
          ]
        }
      ]
    },
    {
      "cell_type": "code",
      "source": [
        "\n",
        "# import necessary packages\n",
        "import matplotlib.pyplot as plt\n",
        "\n",
        "sns.countplot(tags, palette='gist_rainbow')\n",
        "plt.title(\"Number of tags in the questions \")\n",
        "plt.xlabel(\"Number of Tags\")\n",
        "plt.ylabel(\"Number of questions\")\n",
        "plt.show()"
      ],
      "metadata": {
        "colab": {
          "base_uri": "https://localhost:8080/",
          "height": 295
        },
        "id": "WZ1iosUWy5JM",
        "outputId": "9d1074b7-9b87-4d9b-8ea3-4243703dcdf1"
      },
      "execution_count": null,
      "outputs": [
        {
          "output_type": "display_data",
          "data": {
            "text/plain": [
              "<Figure size 432x288 with 1 Axes>"
            ],
            "image/png": "[encoded data removed]"
          },
          "metadata": {
            "needs_background": "light"
          }
        }
      ]
    },
    {
      "cell_type": "markdown",
      "source": [
        "2. Determine the Total Number of Unique Tags"
      ],
      "metadata": {
        "id": "vI0pRDzrYhpD"
      }
    },
    {
      "cell_type": "code",
      "source": [
        "print(tags)\n",
        "print(tagshort2)"
      ],
      "metadata": {
        "colab": {
          "base_uri": "https://localhost:8080/"
        },
        "id": "MBZ_DTkVYukc",
        "outputId": "1709bdf3-a6a3-4a1e-a45d-a819718a45f0"
      },
      "execution_count": null,
      "outputs": [
        {
          "output_type": "stream",
          "name": "stdout",
          "text": [
            "[5, 4, 3, 5, 5, 2, 4, 3, 4, 4, 4, 3, 5, 4, 4, 4, 4, 5, 4, 4]\n",
            "[['c#', 'floating-point', 'type-conversion', 'double', 'decimal'], ['html', 'css', 'css3', 'internet-explorer-7'], ['c#', '.net', 'datetime'], ['c#', 'datetime', 'time', 'datediff', 'relative-time-span'], ['javascript', 'html', 'browser', 'timezone', 'timezoneoffset'], ['.net', 'math'], ['mysql', 'database', 'binary-data', 'data-storage'], ['mysql', 'database', 'triggers'], ['sql', 'sql-server', 'datatable', 'rdbms'], ['php', 'plugins', 'architecture', 'hook'], ['html', 'form-submit', 'html-form', 'submit-button'], ['c#', 'linq', '.net-3.5'], ['linux', 'winapi', 'visual-c++', 'unix', 'timer'], ['svn', 'tortoisesvn', 'branch', 'branching-and-merging'], ['.net', 'performance', 'memory-leaks', 'com-interop'], ['java', 'xml', 'csv', 'data-conversion'], ['java', 'php', 'oop', 'theory'], ['mysql', 'sql-server', 'csv', 'sql-server-2005', 'bcp'], ['sql-server', 'database', 'svn', 'version-control'], ['algorithm', 'language-agnostic', 'colors', 'color-space']]\n"
          ]
        }
      ]
    },
    {
      "cell_type": "code",
      "source": [
        "l = []\n",
        "\n",
        "for k in range(len(tagshort2)):\n",
        "  for i in tagshort2[k]:\n",
        "    l.append(i)"
      ],
      "metadata": {
        "id": "RNdRlozagcA2"
      },
      "execution_count": 170,
      "outputs": []
    },
    {
      "cell_type": "code",
      "source": [
        "# initializing the list\n",
        "random_list = l\n",
        "frequency = {}\n",
        "\n",
        "# iterating over the list\n",
        "for item in random_list:\n",
        "   # checking the element in dictionary\n",
        "   if item in frequency:\n",
        "      # incrementing the counr\n",
        "      frequency[item] += 1\n",
        "   else:\n",
        "      # initializing the count\n",
        "      frequency[item] = 1\n",
        "\n",
        "# printing the frequency\n",
        "print(frequency)"
      ],
      "metadata": {
        "colab": {
          "base_uri": "https://localhost:8080/"
        },
        "id": "bPlkF2tcNrY0",
        "outputId": "d95886dd-c25c-4b5a-e7eb-9dd022ba2fc6"
      },
      "execution_count": 171,
      "outputs": [
        {
          "output_type": "stream",
          "name": "stdout",
          "text": [
            "{'c#': 4, 'floating-point': 1, 'type-conversion': 1, 'double': 1, 'decimal': 1, 'html': 3, 'css': 1, 'css3': 1, 'internet-explorer-7': 1, '.net': 3, 'datetime': 2, 'time': 1, 'datediff': 1, 'relative-time-span': 1, 'javascript': 1, 'browser': 1, 'timezone': 1, 'timezoneoffset': 1, 'math': 1, 'mysql': 3, 'database': 3, 'binary-data': 1, 'data-storage': 1, 'triggers': 1, 'sql': 1, 'sql-server': 3, 'datatable': 1, 'rdbms': 1, 'php': 2, 'plugins': 1, 'architecture': 1, 'hook': 1, 'form-submit': 1, 'html-form': 1, 'submit-button': 1, 'linq': 1, '.net-3.5': 1, 'linux': 1, 'winapi': 1, 'visual-c++': 1, 'unix': 1, 'timer': 1, 'svn': 2, 'tortoisesvn': 1, 'branch': 1, 'branching-and-merging': 1, 'performance': 1, 'memory-leaks': 1, 'com-interop': 1, 'java': 2, 'xml': 1, 'csv': 2, 'data-conversion': 1, 'oop': 1, 'theory': 1, 'sql-server-2005': 1, 'bcp': 1, 'version-control': 1, 'algorithm': 1, 'language-agnostic': 1, 'colors': 1, 'color-space': 1}\n"
          ]
        }
      ]
    },
    {
      "cell_type": "code",
      "source": [
        "number_of_unique_tags = len(set(l))\n",
        "number_of_unique_tags"
      ],
      "metadata": {
        "colab": {
          "base_uri": "https://localhost:8080/"
        },
        "id": "_U3QqBD2w0UR",
        "outputId": "d011a1a2-5f02-4d61-b997-53a4272c2482"
      },
      "execution_count": 165,
      "outputs": [
        {
          "output_type": "execute_result",
          "data": {
            "text/plain": [
              "62"
            ]
          },
          "metadata": {},
          "execution_count": 165
        }
      ]
    },
    {
      "cell_type": "code",
      "source": [
        "data = pd.DataFrame(l)\n",
        "data.plot(figsize=(12,8))"
      ],
      "metadata": {
        "id": "NHgpav67FAmK",
        "colab": {
          "base_uri": "https://localhost:8080/",
          "height": 500
        },
        "outputId": "04f73bdf-a955-42e3-df15-111daa31a24f"
      },
      "execution_count": 153,
      "outputs": [
        {
          "output_type": "execute_result",
          "data": {
            "text/plain": [
              "<matplotlib.axes._subplots.AxesSubplot at 0x7f4656800e10>"
            ]
          },
          "metadata": {},
          "execution_count": 153
        },
        {
          "output_type": "display_data",
          "data": {
            "text/plain": [
              "<Figure size 864x576 with 1 Axes>"
            ],
            "image/png": "[encoded data removed]"
          },
          "metadata": {
            "needs_background": "light"
          }
        }
      ]
    },
    {
      "cell_type": "markdown",
      "source": [
        "Q 3 Determine the top-25 Tags appearing frequently"
      ],
      "metadata": {
        "id": "c4Zs5-GryVeB"
      }
    },
    {
      "cell_type": "code",
      "source": [
        "k = Counter(frequency)\n",
        " \n",
        "# Finding 3 highest values\n",
        "high = k.most_common(25)\n",
        " \n",
        " \n",
        " \n",
        "print(\"top-25 Tags appearing frequently:\")\n",
        "print(\"Keys: Values\")\n",
        " \n",
        "for i in high:\n",
        "    print(i[0],\" :\",i[1],\" \")\n"
      ],
      "metadata": {
        "colab": {
          "base_uri": "https://localhost:8080/"
        },
        "id": "-kms-2AtyPwK",
        "outputId": "c3bcbb7d-54d2-4e9d-9a22-f0fc990b91ee"
      },
      "execution_count": 172,
      "outputs": [
        {
          "output_type": "stream",
          "name": "stdout",
          "text": [
            "top-25 Tags appearing frequently:\n",
            "Keys: Values\n",
            "c#  : 4  \n",
            "html  : 3  \n",
            ".net  : 3  \n",
            "mysql  : 3  \n",
            "database  : 3  \n",
            "sql-server  : 3  \n",
            "datetime  : 2  \n",
            "php  : 2  \n",
            "svn  : 2  \n",
            "java  : 2  \n",
            "csv  : 2  \n",
            "floating-point  : 1  \n",
            "type-conversion  : 1  \n",
            "double  : 1  \n",
            "decimal  : 1  \n",
            "css  : 1  \n",
            "css3  : 1  \n",
            "internet-explorer-7  : 1  \n",
            "time  : 1  \n",
            "datediff  : 1  \n",
            "relative-time-span  : 1  \n",
            "javascript  : 1  \n",
            "browser  : 1  \n",
            "timezone  : 1  \n",
            "timezoneoffset  : 1  \n"
          ]
        }
      ]
    },
    {
      "cell_type": "code",
      "source": [
        "\n",
        "keys = frequency.keys()\n",
        "values = frequency.values()\n",
        "\n",
        "plt.bar(keys, values)\n",
        "plt.rcParams[\"figure.figsize\"] = (20, 5)\n",
        "plt.xlabel(\"words\")\n",
        "plt.ylabel(\"Frequency\")\n",
        "plt.show()"
      ],
      "metadata": {
        "colab": {
          "base_uri": "https://localhost:8080/",
          "height": 334
        },
        "id": "Q5IjWV9NQfg1",
        "outputId": "21bce5d5-913b-432d-934b-a3716ac1dbf2"
      },
      "execution_count": 190,
      "outputs": [
        {
          "output_type": "display_data",
          "data": {
            "text/plain": [
              "<Figure size 1440x360 with 1 Axes>"
            ],
            "image/png": "[encoded data removed]"
          },
          "metadata": {
            "needs_background": "light"
          }
        }
      ]
    },
    {
      "cell_type": "markdown",
      "source": [
        "4. Determine the nature of the distribution of top-500 tags"
      ],
      "metadata": {
        "id": "r_METeVzTcSp"
      }
    },
    {
      "cell_type": "markdown",
      "source": [
        "5. Determine the ratio of duplicate questions asked in each month"
      ],
      "metadata": {
        "id": "0TyvwkIhALpZ"
      }
    },
    {
      "cell_type": "code",
      "source": [
        "df_train= pd.read_csv('/content/drive/MyDrive/Machine learning/LHC dataset/Arjun_Assignment_data/dataset/posts_short.csv')"
      ],
      "metadata": {
        "id": "peR7AMnDBMEm"
      },
      "execution_count": null,
      "outputs": []
    },
    {
      "cell_type": "code",
      "source": [
        "df_train"
      ],
      "metadata": {
        "colab": {
          "base_uri": "https://localhost:8080/",
          "height": 991
        },
        "id": "TLVJYT3rBeqQ",
        "outputId": "a5e0bed0-cf14-4ca3-e550-4ae5dfb6c9a5"
      },
      "execution_count": null,
      "outputs": [
        {
          "output_type": "execute_result",
          "data": {
            "text/plain": [
              "        Unnamed: 0        id  post_type_id  accepted_answer_id  parent_id  \\\n",
              "0                0         4             1                   7       -999   \n",
              "1                1         6             1                  31       -999   \n",
              "2                2         9             1                1404       -999   \n",
              "3                3        11             1                1248       -999   \n",
              "4                4        13             1                -999       -999   \n",
              "...            ...       ...           ...                 ...        ...   \n",
              "676199      676199  52133457             1                -999       -999   \n",
              "676200      676200  52133674             1                -999       -999   \n",
              "676201      676201  52133700             1                -999       -999   \n",
              "676202      676202  52133880             1                -999       -999   \n",
              "676203      676203  52134121             1                -999       -999   \n",
              "\n",
              "                  creation_date  score  view_count  owner_user_id  \\\n",
              "0       2008-07-31T21:42:52.667    573       37080              8   \n",
              "1       2008-07-31T22:08:08.620    256       16306              9   \n",
              "2       2008-07-31T23:40:59.743   1743      480476              1   \n",
              "3       2008-07-31T23:55:37.967   1348      136033              1   \n",
              "4       2008-08-01T00:42:38.903    539      157009              9   \n",
              "...                         ...    ...         ...            ...   \n",
              "676199  2018-09-02T02:10:04.210      0          14        4101319   \n",
              "676200  2018-09-02T03:08:51.103     -3          16        9815281   \n",
              "676201  2018-09-02T03:15:42.997      0          23        4044009   \n",
              "676202  2018-09-02T04:04:31.570      0          15       10271692   \n",
              "676203  2018-09-02T05:02:16.480      0          12       10049938   \n",
              "\n",
              "                                                     tags  answer_count  \\\n",
              "0       <c#><floating-point><type-conversion><double><...            13   \n",
              "1                  <html><css><css3><internet-explorer-7>             5   \n",
              "2                                    <c#><.net><datetime>            64   \n",
              "3       <c#><datetime><time><datediff><relative-time-s...            35   \n",
              "4       <javascript><html><browser><timezone><timezone...            25   \n",
              "...                                                   ...           ...   \n",
              "676199                                   <python><import>             0   \n",
              "676200                   <java><firebase><android-studio>             0   \n",
              "676201                                                <c>             0   \n",
              "676202                         <angularjs><node.js><ajax>             1   \n",
              "676203                                        <php><html>             2   \n",
              "\n",
              "        comment_count  favorite_count     community_owned_date  \n",
              "0                   1              41  2012-10-31T16:42:47.213  \n",
              "1                   0              10                      NaN  \n",
              "2                   7             399  2011-08-16T19:40:43.080  \n",
              "3                   3             529  2009-09-04T13:15:59.820  \n",
              "4                   6             137                      NaN  \n",
              "...               ...             ...                      ...  \n",
              "676199              0               0                      NaN  \n",
              "676200              2               0                      NaN  \n",
              "676201              1               0                      NaN  \n",
              "676202              1               0                      NaN  \n",
              "676203              1               0                      NaN  \n",
              "\n",
              "[676204 rows x 14 columns]"
            ],
            "text/html": [
              "\n",
              "  <div id=\"df-a5583a7f-a460-4642-9b6a-8d1be67c79fc\">\n",
              "    <div class=\"colab-df-container\">\n",
              "      <div>\n",
              "<style scoped>\n",
              "    .dataframe tbody tr th:only-of-type {\n",
              "        vertical-align: middle;\n",
              "    }\n",
              "\n",
              "    .dataframe tbody tr th {\n",
              "        vertical-align: top;\n",
              "    }\n",
              "\n",
              "    .dataframe thead th {\n",
              "        text-align: right;\n",
              "    }\n",
              "</style>\n",
              "<table border=\"1\" class=\"dataframe\">\n",
              "  <thead>\n",
              "    <tr style=\"text-align: right;\">\n",
              "      <th></th>\n",
              "      <th>Unnamed: 0</th>\n",
              "      <th>id</th>\n",
              "      <th>post_type_id</th>\n",
              "      <th>accepted_answer_id</th>\n",
              "      <th>parent_id</th>\n",
              "      <th>creation_date</th>\n",
              "      <th>score</th>\n",
              "      <th>view_count</th>\n",
              "      <th>owner_user_id</th>\n",
              "      <th>tags</th>\n",
              "      <th>answer_count</th>\n",
              "      <th>comment_count</th>\n",
              "      <th>favorite_count</th>\n",
              "      <th>community_owned_date</th>\n",
              "    </tr>\n",
              "  </thead>\n",
              "  <tbody>\n",
              "    <tr>\n",
              "      <th>0</th>\n",
              "      <td>0</td>\n",
              "      <td>4</td>\n",
              "      <td>1</td>\n",
              "      <td>7</td>\n",
              "      <td>-999</td>\n",
              "      <td>2008-07-31T21:42:52.667</td>\n",
              "      <td>573</td>\n",
              "      <td>37080</td>\n",
              "      <td>8</td>\n",
              "      <td>&lt;c#&gt;&lt;floating-point&gt;&lt;type-conversion&gt;&lt;double&gt;&lt;...</td>\n",
              "      <td>13</td>\n",
              "      <td>1</td>\n",
              "      <td>41</td>\n",
              "      <td>2012-10-31T16:42:47.213</td>\n",
              "    </tr>\n",
              "    <tr>\n",
              "      <th>1</th>\n",
              "      <td>1</td>\n",
              "      <td>6</td>\n",
              "      <td>1</td>\n",
              "      <td>31</td>\n",
              "      <td>-999</td>\n",
              "      <td>2008-07-31T22:08:08.620</td>\n",
              "      <td>256</td>\n",
              "      <td>16306</td>\n",
              "      <td>9</td>\n",
              "      <td>&lt;html&gt;&lt;css&gt;&lt;css3&gt;&lt;internet-explorer-7&gt;</td>\n",
              "      <td>5</td>\n",
              "      <td>0</td>\n",
              "      <td>10</td>\n",
              "      <td>NaN</td>\n",
              "    </tr>\n",
              "    <tr>\n",
              "      <th>2</th>\n",
              "      <td>2</td>\n",
              "      <td>9</td>\n",
              "      <td>1</td>\n",
              "      <td>1404</td>\n",
              "      <td>-999</td>\n",
              "      <td>2008-07-31T23:40:59.743</td>\n",
              "      <td>1743</td>\n",
              "      <td>480476</td>\n",
              "      <td>1</td>\n",
              "      <td>&lt;c#&gt;&lt;.net&gt;&lt;datetime&gt;</td>\n",
              "      <td>64</td>\n",
              "      <td>7</td>\n",
              "      <td>399</td>\n",
              "      <td>2011-08-16T19:40:43.080</td>\n",
              "    </tr>\n",
              "    <tr>\n",
              "      <th>3</th>\n",
              "      <td>3</td>\n",
              "      <td>11</td>\n",
              "      <td>1</td>\n",
              "      <td>1248</td>\n",
              "      <td>-999</td>\n",
              "      <td>2008-07-31T23:55:37.967</td>\n",
              "      <td>1348</td>\n",
              "      <td>136033</td>\n",
              "      <td>1</td>\n",
              "      <td>&lt;c#&gt;&lt;datetime&gt;&lt;time&gt;&lt;datediff&gt;&lt;relative-time-s...</td>\n",
              "      <td>35</td>\n",
              "      <td>3</td>\n",
              "      <td>529</td>\n",
              "      <td>2009-09-04T13:15:59.820</td>\n",
              "    </tr>\n",
              "    <tr>\n",
              "      <th>4</th>\n",
              "      <td>4</td>\n",
              "      <td>13</td>\n",
              "      <td>1</td>\n",
              "      <td>-999</td>\n",
              "      <td>-999</td>\n",
              "      <td>2008-08-01T00:42:38.903</td>\n",
              "      <td>539</td>\n",
              "      <td>157009</td>\n",
              "      <td>9</td>\n",
              "      <td>&lt;javascript&gt;&lt;html&gt;&lt;browser&gt;&lt;timezone&gt;&lt;timezone...</td>\n",
              "      <td>25</td>\n",
              "      <td>6</td>\n",
              "      <td>137</td>\n",
              "      <td>NaN</td>\n",
              "    </tr>\n",
              "    <tr>\n",
              "      <th>...</th>\n",
              "      <td>...</td>\n",
              "      <td>...</td>\n",
              "      <td>...</td>\n",
              "      <td>...</td>\n",
              "      <td>...</td>\n",
              "      <td>...</td>\n",
              "      <td>...</td>\n",
              "      <td>...</td>\n",
              "      <td>...</td>\n",
              "      <td>...</td>\n",
              "      <td>...</td>\n",
              "      <td>...</td>\n",
              "      <td>...</td>\n",
              "      <td>...</td>\n",
              "    </tr>\n",
              "    <tr>\n",
              "      <th>676199</th>\n",
              "      <td>676199</td>\n",
              "      <td>52133457</td>\n",
              "      <td>1</td>\n",
              "      <td>-999</td>\n",
              "      <td>-999</td>\n",
              "      <td>2018-09-02T02:10:04.210</td>\n",
              "      <td>0</td>\n",
              "      <td>14</td>\n",
              "      <td>4101319</td>\n",
              "      <td>&lt;python&gt;&lt;import&gt;</td>\n",
              "      <td>0</td>\n",
              "      <td>0</td>\n",
              "      <td>0</td>\n",
              "      <td>NaN</td>\n",
              "    </tr>\n",
              "    <tr>\n",
              "      <th>676200</th>\n",
              "      <td>676200</td>\n",
              "      <td>52133674</td>\n",
              "      <td>1</td>\n",
              "      <td>-999</td>\n",
              "      <td>-999</td>\n",
              "      <td>2018-09-02T03:08:51.103</td>\n",
              "      <td>-3</td>\n",
              "      <td>16</td>\n",
              "      <td>9815281</td>\n",
              "      <td>&lt;java&gt;&lt;firebase&gt;&lt;android-studio&gt;</td>\n",
              "      <td>0</td>\n",
              "      <td>2</td>\n",
              "      <td>0</td>\n",
              "      <td>NaN</td>\n",
              "    </tr>\n",
              "    <tr>\n",
              "      <th>676201</th>\n",
              "      <td>676201</td>\n",
              "      <td>52133700</td>\n",
              "      <td>1</td>\n",
              "      <td>-999</td>\n",
              "      <td>-999</td>\n",
              "      <td>2018-09-02T03:15:42.997</td>\n",
              "      <td>0</td>\n",
              "      <td>23</td>\n",
              "      <td>4044009</td>\n",
              "      <td>&lt;c&gt;</td>\n",
              "      <td>0</td>\n",
              "      <td>1</td>\n",
              "      <td>0</td>\n",
              "      <td>NaN</td>\n",
              "    </tr>\n",
              "    <tr>\n",
              "      <th>676202</th>\n",
              "      <td>676202</td>\n",
              "      <td>52133880</td>\n",
              "      <td>1</td>\n",
              "      <td>-999</td>\n",
              "      <td>-999</td>\n",
              "      <td>2018-09-02T04:04:31.570</td>\n",
              "      <td>0</td>\n",
              "      <td>15</td>\n",
              "      <td>10271692</td>\n",
              "      <td>&lt;angularjs&gt;&lt;node.js&gt;&lt;ajax&gt;</td>\n",
              "      <td>1</td>\n",
              "      <td>1</td>\n",
              "      <td>0</td>\n",
              "      <td>NaN</td>\n",
              "    </tr>\n",
              "    <tr>\n",
              "      <th>676203</th>\n",
              "      <td>676203</td>\n",
              "      <td>52134121</td>\n",
              "      <td>1</td>\n",
              "      <td>-999</td>\n",
              "      <td>-999</td>\n",
              "      <td>2018-09-02T05:02:16.480</td>\n",
              "      <td>0</td>\n",
              "      <td>12</td>\n",
              "      <td>10049938</td>\n",
              "      <td>&lt;php&gt;&lt;html&gt;</td>\n",
              "      <td>2</td>\n",
              "      <td>1</td>\n",
              "      <td>0</td>\n",
              "      <td>NaN</td>\n",
              "    </tr>\n",
              "  </tbody>\n",
              "</table>\n",
              "<p>676204 rows × 14 columns</p>\n",
              "</div>\n",
              "      <button class=\"colab-df-convert\" onclick=\"convertToInteractive('df-a5583a7f-a460-4642-9b6a-8d1be67c79fc')\"\n",
              "              title=\"Convert this dataframe to an interactive table.\"\n",
              "              style=\"display:none;\">\n",
              "        \n",
              "  <svg xmlns=\"http://www.w3.org/2000/svg\" height=\"24px\"viewBox=\"0 0 24 24\"\n",
              "       width=\"24px\">\n",
              "    <path d=\"M0 0h24v24H0V0z\" fill=\"none\"/>\n",
              "    <path d=\"M18.56 5.44l.94 2.06.94-2.06 2.06-.94-2.06-.94-.94-2.06-.94 2.06-2.06.94zm-11 1L8.5 8.5l.94-2.06 2.06-.94-2.06-.94L8.5 2.5l-.94 2.06-2.06.94zm10 10l.94 2.06.94-2.06 2.06-.94-2.06-.94-.94-2.06-.94 2.06-2.06.94z\"/><path d=\"M17.41 7.96l-1.37-1.37c-.4-.4-.92-.59-1.43-.59-.52 0-1.04.2-1.43.59L10.3 9.45l-7.72 7.72c-.78.78-.78 2.05 0 2.83L4 21.41c.39.39.9.59 1.41.59.51 0 1.02-.2 1.41-.59l7.78-7.78 2.81-2.81c.8-.78.8-2.07 0-2.86zM5.41 20L4 18.59l7.72-7.72 1.47 1.35L5.41 20z\"/>\n",
              "  </svg>\n",
              "      </button>\n",
              "      \n",
              "  <style>\n",
              "    .colab-df-container {\n",
              "      display:flex;\n",
              "      flex-wrap:wrap;\n",
              "      gap: 12px;\n",
              "    }\n",
              "\n",
              "    .colab-df-convert {\n",
              "      background-color: #E8F0FE;\n",
              "      border: none;\n",
              "      border-radius: 50%;\n",
              "      cursor: pointer;\n",
              "      display: none;\n",
              "      fill: #1967D2;\n",
              "      height: 32px;\n",
              "      padding: 0 0 0 0;\n",
              "      width: 32px;\n",
              "    }\n",
              "\n",
              "    .colab-df-convert:hover {\n",
              "      background-color: #E2EBFA;\n",
              "      box-shadow: 0px 1px 2px rgba(60, 64, 67, 0.3), 0px 1px 3px 1px rgba(60, 64, 67, 0.15);\n",
              "      fill: #174EA6;\n",
              "    }\n",
              "\n",
              "    [theme=dark] .colab-df-convert {\n",
              "      background-color: #3B4455;\n",
              "      fill: #D2E3FC;\n",
              "    }\n",
              "\n",
              "    [theme=dark] .colab-df-convert:hover {\n",
              "      background-color: #434B5C;\n",
              "      box-shadow: 0px 1px 3px 1px rgba(0, 0, 0, 0.15);\n",
              "      filter: drop-shadow(0px 1px 2px rgba(0, 0, 0, 0.3));\n",
              "      fill: #FFFFFF;\n",
              "    }\n",
              "  </style>\n",
              "\n",
              "      <script>\n",
              "        const buttonEl =\n",
              "          document.querySelector('#df-a5583a7f-a460-4642-9b6a-8d1be67c79fc button.colab-df-convert');\n",
              "        buttonEl.style.display =\n",
              "          google.colab.kernel.accessAllowed ? 'block' : 'none';\n",
              "\n",
              "        async function convertToInteractive(key) {\n",
              "          const element = document.querySelector('#df-a5583a7f-a460-4642-9b6a-8d1be67c79fc');\n",
              "          const dataTable =\n",
              "            await google.colab.kernel.invokeFunction('convertToInteractive',\n",
              "                                                     [key], {});\n",
              "          if (!dataTable) return;\n",
              "\n",
              "          const docLinkHtml = 'Like what you see? Visit the ' +\n",
              "            '<a target=\"_blank\" href=https://colab.research.google.com/notebooks/data_table.ipynb>data table notebook</a>'\n",
              "            + ' to learn more about interactive tables.';\n",
              "          element.innerHTML = '';\n",
              "          dataTable['output_type'] = 'display_data';\n",
              "          await google.colab.output.renderOutput(dataTable, element);\n",
              "          const docLink = document.createElement('div');\n",
              "          docLink.innerHTML = docLinkHtml;\n",
              "          element.appendChild(docLink);\n",
              "        }\n",
              "      </script>\n",
              "    </div>\n",
              "  </div>\n",
              "  "
            ]
          },
          "metadata": {},
          "execution_count": 140
        }
      ]
    },
    {
      "cell_type": "code",
      "source": [
        "df_train['new']=df_train[\"creation_date\"].str.split(\"-\").str.get(0)+\"-\"+df_train[\"creation_date\"].str.split(\"-\").str.get(1)\n",
        "aaa = df_train['new'].value_counts()\n",
        "aaa"
      ],
      "metadata": {
        "colab": {
          "base_uri": "https://localhost:8080/"
        },
        "id": "dPaNcAD98IjI",
        "outputId": "c381d58f-ba42-40d1-c26f-2939cd2f7b14"
      },
      "execution_count": null,
      "outputs": [
        {
          "output_type": "execute_result",
          "data": {
            "text/plain": [
              "2018-08    9227\n",
              "2017-11    8765\n",
              "2017-10    8477\n",
              "2018-03    8320\n",
              "2018-05    8172\n",
              "           ... \n",
              "2008-11    1581\n",
              "2008-12    1397\n",
              "2008-08     816\n",
              "2018-09     179\n",
              "2008-07       4\n",
              "Name: new, Length: 123, dtype: int64"
            ]
          },
          "metadata": {},
          "execution_count": 141
        }
      ]
    },
    {
      "cell_type": "code",
      "source": [
        "plt.figure(figsize=(25, 15))\n",
        "aaa.plot.barh()"
      ],
      "metadata": {
        "colab": {
          "base_uri": "https://localhost:8080/",
          "height": 775
        },
        "id": "qLMA1bc_Ai7b",
        "outputId": "817566c5-5a9f-4129-9bf8-373a4f9938d9"
      },
      "execution_count": null,
      "outputs": [
        {
          "output_type": "execute_result",
          "data": {
            "text/plain": [
              "<matplotlib.axes._subplots.AxesSubplot at 0x7f4656c98e90>"
            ]
          },
          "metadata": {},
          "execution_count": 142
        },
        {
          "output_type": "display_data",
          "data": {
            "text/plain": [
              "<Figure size 1800x1080 with 1 Axes>"
            ],
            "image/png": "[encoded data removed]"
          },
          "metadata": {
            "needs_background": "light"
          }
        }
      ]
    },
    {
      "cell_type": "markdown",
      "source": [
        "6. Determine the percentage of duplicate questions associated with different tags\n",
        "Each Stack Overflow question has some tags associated with it which is an\n",
        "identification of the topic of the question content. For each tag in your dataset,\n",
        "determine the number of duplicate questions associated with the tag over the total\n",
        "number of questions (calculate the percentage). Determine the top-20 tags based on\n",
        "the previously calculated numbers and then show the percentage in a bar chart.\n"
      ],
      "metadata": {
        "id": "c1nyMAzaTemy"
      }
    },
    {
      "cell_type": "code",
      "source": [
        ""
      ],
      "metadata": {
        "id": "ft0lKUnNAron"
      },
      "execution_count": null,
      "outputs": []
    }
  ]
}